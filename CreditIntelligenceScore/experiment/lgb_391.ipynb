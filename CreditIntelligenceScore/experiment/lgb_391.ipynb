{
 "cells": [
  {
   "cell_type": "code",
   "execution_count": 1,
   "metadata": {
    "ExecuteTime": {
     "end_time": "2019-03-20T07:26:01.452290Z",
     "start_time": "2019-03-20T07:25:57.269519Z"
    }
   },
   "outputs": [],
   "source": [
    "%matplotlib inline\n",
    "\n",
    "from datetime import datetime\n",
    "\n",
    "from scipy import stats\n",
    "from scipy.special import boxcox1p\n",
    "from scipy.stats import skew\n",
    "import numpy as np\n",
    "import pandas as pd\n",
    "import matplotlib.pyplot as plt\n",
    "import seaborn as sns\n",
    "import lightgbm as lgb\n",
    "import xgboost as xgb\n",
    "from sklearn.ensemble import RandomForestRegressor, GradientBoostingRegressor, RandomForestClassifier\n",
    "from sklearn.svm import SVC\n",
    "from sklearn.model_selection import GridSearchCV\n",
    "from sklearn.model_selection import train_test_split\n",
    "from sklearn.model_selection import StratifiedKFold\n",
    "from sklearn.metrics import mean_absolute_error\n",
    "from sklearn.model_selection import cross_val_score\n",
    "from scipy.special import inv_boxcox1p\n",
    "from mlxtend.regressor import StackingRegressor\n",
    "from sklearn.preprocessing import scale\n",
    "from sklearn.base import BaseEstimator, TransformerMixin, RegressorMixin, clone\n",
    "from sklearn.preprocessing import RobustScaler\n",
    "from sklearn.linear_model import ElasticNet, Lasso,  BayesianRidge, LassoLarsIC\n",
    "from mlxtend.regressor import StackingRegressor\n",
    "from sklearn.pipeline import make_pipeline\n",
    "from sklearn.preprocessing import StandardScaler\n",
    "from xgboost import XGBRegressor\n",
    "from sklearn.feature_selection import SelectPercentile, f_classif\n",
    "from scipy.stats import zscore\n",
    "\n",
    "\n",
    "import warnings\n",
    "warnings.filterwarnings('ignore')\n",
    "\n",
    "\n",
    "# 用于正常显示中文\n",
    "plt.rcParams['font.sans-serif'] = ['SimHei']\n",
    "# 用来正常显示负号\n",
    "plt.rcParams['axes.unicode_minus'] = False\n",
    "# 设置图片清晰度\n",
    "%config InlineBackend.figure_format = 'retina'  "
   ]
  },
  {
   "cell_type": "code",
   "execution_count": 2,
   "metadata": {
    "ExecuteTime": {
     "end_time": "2019-03-20T07:26:01.929011Z",
     "start_time": "2019-03-20T07:26:01.454272Z"
    }
   },
   "outputs": [],
   "source": [
    "train = pd.read_csv('../original_data/train_dataset.csv')\n",
    "test = pd.read_csv('../original_data/test_dataset.csv')"
   ]
  },
  {
   "cell_type": "code",
   "execution_count": 3,
   "metadata": {
    "ExecuteTime": {
     "end_time": "2019-03-20T07:26:02.031941Z",
     "start_time": "2019-03-20T07:26:01.932996Z"
    }
   },
   "outputs": [],
   "source": [
    "data = pd.concat([train, test]).reset_index(drop=True)"
   ]
  },
  {
   "cell_type": "markdown",
   "metadata": {
    "ExecuteTime": {
     "end_time": "2019-02-22T15:00:17.438951Z",
     "start_time": "2019-02-22T15:00:17.435955Z"
    }
   },
   "source": [
    "### 对网龄进行年份化"
   ]
  },
  {
   "cell_type": "code",
   "execution_count": 4,
   "metadata": {
    "ExecuteTime": {
     "end_time": "2019-03-20T07:26:02.106895Z",
     "start_time": "2019-03-20T07:26:02.035937Z"
    }
   },
   "outputs": [],
   "source": [
    "def conversion_month_year(month):\n",
    "    try:\n",
    "        return month / 12.0\n",
    "    except Exception:\n",
    "        return 0.0\n",
    "    \n",
    "    \n",
    "data['用户网龄（年）'] = data['用户网龄（月）'].map(conversion_month_year)\n",
    "data.drop(['用户网龄（月）'], axis=1, inplace=True)"
   ]
  },
  {
   "cell_type": "markdown",
   "metadata": {},
   "source": [
    "### 对缴费方式进行提取"
   ]
  },
  {
   "cell_type": "code",
   "execution_count": 5,
   "metadata": {
    "ExecuteTime": {
     "end_time": "2019-03-20T07:26:02.221845Z",
     "start_time": "2019-03-20T07:26:02.107894Z"
    }
   },
   "outputs": [],
   "source": [
    "data['充值方式'] = 0\n",
    "data['充值方式'][(data['缴费用户最近一次缴费金额（元）'] % 10 == 0) & \n",
    "             data['缴费用户最近一次缴费金额（元）'] != 0] = 1"
   ]
  },
  {
   "cell_type": "markdown",
   "metadata": {},
   "source": [
    "### 对数据进行惩罚修改\n",
    "1. 网龄 > 年龄 或者 年龄 为0\n",
    "2. 经常逛商场的人的逛商场的次数 < 不经常逛商场的人的次数"
   ]
  },
  {
   "cell_type": "code",
   "execution_count": 6,
   "metadata": {
    "ExecuteTime": {
     "end_time": "2019-03-20T07:26:05.523755Z",
     "start_time": "2019-03-20T07:26:02.222828Z"
    }
   },
   "outputs": [],
   "source": [
    "def compare_age_by_network_age(row):\n",
    "    if row['用户网龄（年）'] >= row['用户年龄']:\n",
    "        return 0.0\n",
    "    else:\n",
    "        return row['用户年龄']\n",
    "    \n",
    "\n",
    "data['用户年龄'] = data.apply(compare_age_by_network_age, axis=1)"
   ]
  },
  {
   "cell_type": "code",
   "execution_count": 7,
   "metadata": {
    "ExecuteTime": {
     "end_time": "2019-03-20T07:26:05.587722Z",
     "start_time": "2019-03-20T07:26:05.525720Z"
    }
   },
   "outputs": [],
   "source": [
    "data.loc[data[(data['是否经常逛商场的人'] == 1) & (\n",
    "        data['近三个月月均商场出现次数'] < data[(data['是否经常逛商场的人'] == 1)][\n",
    "    '近三个月月均商场出现次数'].quantile(0.15))].index, \"是否经常逛商场的人\"] = 0\n",
    "data.loc[data[(data['是否经常逛商场的人'] == 0) & (\n",
    "        data['近三个月月均商场出现次数'] > data[(data['是否经常逛商场的人'] == 1)][\n",
    "    '近三个月月均商场出现次数'].quantile(0.85))].index, \"是否经常逛商场的人\"] = 1"
   ]
  },
  {
   "cell_type": "code",
   "execution_count": 8,
   "metadata": {
    "ExecuteTime": {
     "end_time": "2019-03-20T07:26:05.600680Z",
     "start_time": "2019-03-20T07:26:05.590683Z"
    }
   },
   "outputs": [],
   "source": [
    "data['用户话费敏感度'].replace(data['用户话费敏感度'].mode(), inplace=True)"
   ]
  },
  {
   "cell_type": "markdown",
   "metadata": {},
   "source": [
    "### 特征交叉"
   ]
  },
  {
   "cell_type": "code",
   "execution_count": 9,
   "metadata": {
    "ExecuteTime": {
     "end_time": "2019-03-20T07:26:05.625701Z",
     "start_time": "2019-03-20T07:26:05.603675Z"
    }
   },
   "outputs": [],
   "source": [
    "data['最近账单稳定性'] = data['用户账单当月总费用（元）'] / (data['用户近6个月平均消费值（元）'] + 0.001)\n",
    "data['用户近5个月平均消费值（元）'] = (data['用户近6个月平均消费值（元）']*6-data['用户账单当月总费用（元）'])/5"
   ]
  },
  {
   "cell_type": "code",
   "execution_count": 10,
   "metadata": {
    "ExecuteTime": {
     "end_time": "2019-03-20T07:26:05.679630Z",
     "start_time": "2019-03-20T07:26:05.627661Z"
    }
   },
   "outputs": [],
   "source": [
    "data.drop(['是否大学生客户', '用户实名制是否通过核实', '用户最近一次缴费距今时长（月）', \n",
    "           '当月是否到过福州山姆会员店', '当月是否逛过福州仓山万达', '当月火车类应用使用次数',\n",
    "           '当月飞机类应用使用次数'], axis=1, inplace=True)"
   ]
  },
  {
   "cell_type": "markdown",
   "metadata": {},
   "source": [
    "### 模型训练"
   ]
  },
  {
   "cell_type": "code",
   "execution_count": 11,
   "metadata": {
    "ExecuteTime": {
     "end_time": "2019-03-20T07:26:05.687627Z",
     "start_time": "2019-03-20T07:26:05.683629Z"
    }
   },
   "outputs": [],
   "source": [
    "feature_importance_df = pd.DataFrame()"
   ]
  },
  {
   "cell_type": "code",
   "execution_count": 12,
   "metadata": {
    "ExecuteTime": {
     "end_time": "2019-03-20T07:26:05.715612Z",
     "start_time": "2019-03-20T07:26:05.689625Z"
    }
   },
   "outputs": [],
   "source": [
    "def evaluation(data):\n",
    "    n_folds = 7\n",
    "    train = data[:50000]\n",
    "    test = data[50000:]\n",
    "    lgb_mae = {\n",
    "        'learning_rate': 0.01,\n",
    "        'boosting_type': 'gbdt',\n",
    "        'objective': 'regression_l1',\n",
    "        'metric': 'mae',\n",
    "        'feature_fraction': 0.6,\n",
    "        'bagging_fraction': 0.8,\n",
    "        'bagging_freq': 2,\n",
    "        'num_leaves': 28,\n",
    "        'verbose': -1,\n",
    "        'max_depth': 5,\n",
    "        'lambda_l2': 10,\n",
    "        'lambda_l1': 4,\n",
    "        'min_data_in_leaf': 35,\n",
    "        'nthread': 4,\n",
    "    }\n",
    "    lgb_mse = {\n",
    "        'learning_rate': 0.01,\n",
    "        'boosting_type': 'gbdt',\n",
    "        'objective': 'regression_l2',\n",
    "        'metric': 'mae',\n",
    "        'feature_fraction': 0.5,\n",
    "        'bagging_fraction': 0.7,\n",
    "        'bagging_freq': 1,\n",
    "        'num_leaves': 43,  # 45\n",
    "        'verbose': -1,\n",
    "        'max_depth': 6,\n",
    "        'lambda_l2': 5,\n",
    "        'lambda_l1': 2,\n",
    "        'min_data_in_leaf': 30,\n",
    "        'nthread': 4,\n",
    "    }\n",
    "    train_y = train['信用分']\n",
    "    train_x = train.drop(['信用分', '用户编码'], axis=1)\n",
    "    test_x = test.drop(['信用分', '用户编码'], axis=1)\n",
    "    kfold = StratifiedKFold(n_splits=n_folds, shuffle=True, random_state=89)\n",
    "    kf = kfold.split(train_x, train_y)\n",
    "    valid_best_l2_all = 0\n",
    "    test_name = test[['用户编码']]\n",
    "    cv_pred = np.zeros(test.shape[0])\n",
    "    offline_pred = np.zeros(train.shape[0])\n",
    "    count = 0\n",
    "    global feature_importance_df\n",
    "    for i, (train_fold, validate) in enumerate(kf):\n",
    "        print('fold: ',i, ' training')\n",
    "        # 切分数据\n",
    "        X_train, X_test, y_train, y_test = train_x.iloc[train_fold, :], train_x.iloc[validate, :], train_y[train_fold], train_y[validate]\n",
    "\n",
    "        # 载入数据集\n",
    "        dtrain = lgb.Dataset(X_train, y_train)\n",
    "        dvalid = lgb.Dataset(X_test, y_test, reference=dtrain)\n",
    "\n",
    "        bst = lgb.train(lgb_mae, dtrain, num_boost_round=100000, valid_sets=dvalid, \n",
    "                        verbose_eval=-1, early_stopping_rounds=100)\n",
    "        # 训练\n",
    "        offline_pred[validate] = bst.predict(X_test, num_iteration=bst.best_iteration)\n",
    "        cv_pred += bst.predict(test_x, num_iteration=bst.best_iteration)\n",
    "        valid_best_l2_all += bst.best_score['valid_0']['l1']\n",
    "        \n",
    "        fold_importance_df = pd.DataFrame()\n",
    "        fold_importance_df[\"feature\"] = list(X_train.columns)\n",
    "        fold_importance_df[\"importance\"] = bst.feature_importance(importance_type='gain', iteration=bst.best_iteration)\n",
    "        fold_importance_df[\"fold\"] = count + 1\n",
    "        feature_importance_df = pd.concat([feature_importance_df, fold_importance_df], axis=0)\n",
    "        count += 1\n",
    "    valid_best_l2_all /= n_folds\n",
    "    cv_pred /= n_folds\n",
    "    result = test_name.copy()\n",
    "    result.columns = ['id']\n",
    "    result['score'] = cv_pred\n",
    "#     result['score'] = result['score'].map(round)\n",
    "    result.to_csv('../result/result_mae6391.csv', index=None)\n",
    "    print('cv score for valid is: ', 1/(1+valid_best_l2_all))\n",
    "    return offline_pred\n",
    "    # 0.06392 mae\n",
    "    # 0.06381 mse\n",
    "    # 0.06398101910912465"
   ]
  },
  {
   "cell_type": "code",
   "execution_count": 13,
   "metadata": {
    "ExecuteTime": {
     "end_time": "2019-03-20T07:29:53.424287Z",
     "start_time": "2019-03-20T07:26:05.717609Z"
    },
    "scrolled": false
   },
   "outputs": [
    {
     "name": "stdout",
     "output_type": "stream",
     "text": [
      "fold:  0  training\n",
      "Training until validation scores don't improve for 100 rounds.\n",
      "Early stopping, best iteration is:\n",
      "[3474]\tvalid_0's l1: 14.6997\n",
      "fold:  1  training\n",
      "Training until validation scores don't improve for 100 rounds.\n",
      "Early stopping, best iteration is:\n",
      "[2430]\tvalid_0's l1: 14.7592\n",
      "fold:  2  training\n",
      "Training until validation scores don't improve for 100 rounds.\n",
      "Early stopping, best iteration is:\n",
      "[2761]\tvalid_0's l1: 14.6436\n",
      "fold:  3  training\n",
      "Training until validation scores don't improve for 100 rounds.\n",
      "Early stopping, best iteration is:\n",
      "[3453]\tvalid_0's l1: 14.8064\n",
      "fold:  4  training\n",
      "Training until validation scores don't improve for 100 rounds.\n",
      "Early stopping, best iteration is:\n",
      "[3476]\tvalid_0's l1: 14.4598\n",
      "fold:  5  training\n",
      "Training until validation scores don't improve for 100 rounds.\n",
      "Early stopping, best iteration is:\n",
      "[3073]\tvalid_0's l1: 14.6095\n",
      "fold:  6  training\n",
      "Training until validation scores don't improve for 100 rounds.\n",
      "Early stopping, best iteration is:\n",
      "[3265]\tvalid_0's l1: 14.4294\n",
      "cv score for valid is:  0.06398101910912465\n"
     ]
    }
   ],
   "source": [
    "offline_pred = evaluation(data)"
   ]
  },
  {
   "cell_type": "code",
   "execution_count": 14,
   "metadata": {
    "ExecuteTime": {
     "end_time": "2019-03-20T07:29:53.518770Z",
     "start_time": "2019-03-20T07:29:53.426285Z"
    }
   },
   "outputs": [
    {
     "data": {
      "text/html": [
       "<div>\n",
       "<style scoped>\n",
       "    .dataframe tbody tr th:only-of-type {\n",
       "        vertical-align: middle;\n",
       "    }\n",
       "\n",
       "    .dataframe tbody tr th {\n",
       "        vertical-align: top;\n",
       "    }\n",
       "\n",
       "    .dataframe thead th {\n",
       "        text-align: right;\n",
       "    }\n",
       "</style>\n",
       "<table border=\"1\" class=\"dataframe\">\n",
       "  <thead>\n",
       "    <tr style=\"text-align: right;\">\n",
       "      <th></th>\n",
       "      <th>feature</th>\n",
       "      <th>importance</th>\n",
       "      <th>fold</th>\n",
       "    </tr>\n",
       "  </thead>\n",
       "  <tbody>\n",
       "    <tr>\n",
       "      <th>7</th>\n",
       "      <td>当月通话交往圈人数</td>\n",
       "      <td>738722.945263</td>\n",
       "      <td>1</td>\n",
       "    </tr>\n",
       "    <tr>\n",
       "      <th>20</th>\n",
       "      <td>用户网龄（年）</td>\n",
       "      <td>473035.685519</td>\n",
       "      <td>1</td>\n",
       "    </tr>\n",
       "    <tr>\n",
       "      <th>23</th>\n",
       "      <td>用户近5个月平均消费值（元）</td>\n",
       "      <td>198918.894537</td>\n",
       "      <td>1</td>\n",
       "    </tr>\n",
       "    <tr>\n",
       "      <th>16</th>\n",
       "      <td>用户近6个月平均消费值（元）</td>\n",
       "      <td>168560.298453</td>\n",
       "      <td>1</td>\n",
       "    </tr>\n",
       "    <tr>\n",
       "      <th>12</th>\n",
       "      <td>用户年龄</td>\n",
       "      <td>115154.507431</td>\n",
       "      <td>1</td>\n",
       "    </tr>\n",
       "    <tr>\n",
       "      <th>15</th>\n",
       "      <td>用户账单当月总费用（元）</td>\n",
       "      <td>57997.239500</td>\n",
       "      <td>1</td>\n",
       "    </tr>\n",
       "    <tr>\n",
       "      <th>8</th>\n",
       "      <td>当月金融理财类应用使用总次数</td>\n",
       "      <td>53561.434864</td>\n",
       "      <td>1</td>\n",
       "    </tr>\n",
       "    <tr>\n",
       "      <th>22</th>\n",
       "      <td>最近账单稳定性</td>\n",
       "      <td>43753.880514</td>\n",
       "      <td>1</td>\n",
       "    </tr>\n",
       "    <tr>\n",
       "      <th>6</th>\n",
       "      <td>当月视频播放类应用使用次数</td>\n",
       "      <td>42216.903593</td>\n",
       "      <td>1</td>\n",
       "    </tr>\n",
       "    <tr>\n",
       "      <th>18</th>\n",
       "      <td>缴费用户最近一次缴费金额（元）</td>\n",
       "      <td>35624.749925</td>\n",
       "      <td>1</td>\n",
       "    </tr>\n",
       "    <tr>\n",
       "      <th>5</th>\n",
       "      <td>当月网购类应用使用次数</td>\n",
       "      <td>35128.940017</td>\n",
       "      <td>1</td>\n",
       "    </tr>\n",
       "    <tr>\n",
       "      <th>19</th>\n",
       "      <td>近三个月月均商场出现次数</td>\n",
       "      <td>21968.722629</td>\n",
       "      <td>1</td>\n",
       "    </tr>\n",
       "    <tr>\n",
       "      <th>13</th>\n",
       "      <td>用户当月账户余额（元）</td>\n",
       "      <td>19336.159615</td>\n",
       "      <td>1</td>\n",
       "    </tr>\n",
       "    <tr>\n",
       "      <th>14</th>\n",
       "      <td>用户话费敏感度</td>\n",
       "      <td>18891.099815</td>\n",
       "      <td>1</td>\n",
       "    </tr>\n",
       "    <tr>\n",
       "      <th>0</th>\n",
       "      <td>当月旅游资讯类应用使用次数</td>\n",
       "      <td>18502.724652</td>\n",
       "      <td>1</td>\n",
       "    </tr>\n",
       "    <tr>\n",
       "      <th>2</th>\n",
       "      <td>当月是否景点游览</td>\n",
       "      <td>4885.395903</td>\n",
       "      <td>1</td>\n",
       "    </tr>\n",
       "    <tr>\n",
       "      <th>9</th>\n",
       "      <td>是否4G不健康客户</td>\n",
       "      <td>3626.654546</td>\n",
       "      <td>1</td>\n",
       "    </tr>\n",
       "    <tr>\n",
       "      <th>1</th>\n",
       "      <td>当月是否体育场馆消费</td>\n",
       "      <td>2380.484272</td>\n",
       "      <td>1</td>\n",
       "    </tr>\n",
       "    <tr>\n",
       "      <th>3</th>\n",
       "      <td>当月是否看电影</td>\n",
       "      <td>2143.124624</td>\n",
       "      <td>1</td>\n",
       "    </tr>\n",
       "    <tr>\n",
       "      <th>17</th>\n",
       "      <td>缴费用户当前是否欠费缴费</td>\n",
       "      <td>1286.541965</td>\n",
       "      <td>1</td>\n",
       "    </tr>\n",
       "    <tr>\n",
       "      <th>10</th>\n",
       "      <td>是否经常逛商场的人</td>\n",
       "      <td>1074.814391</td>\n",
       "      <td>1</td>\n",
       "    </tr>\n",
       "    <tr>\n",
       "      <th>21</th>\n",
       "      <td>充值方式</td>\n",
       "      <td>770.678640</td>\n",
       "      <td>1</td>\n",
       "    </tr>\n",
       "    <tr>\n",
       "      <th>4</th>\n",
       "      <td>当月物流快递类应用使用次数</td>\n",
       "      <td>732.471266</td>\n",
       "      <td>1</td>\n",
       "    </tr>\n",
       "    <tr>\n",
       "      <th>11</th>\n",
       "      <td>是否黑名单客户</td>\n",
       "      <td>337.364713</td>\n",
       "      <td>1</td>\n",
       "    </tr>\n",
       "  </tbody>\n",
       "</table>\n",
       "</div>"
      ],
      "text/plain": [
       "            feature     importance  fold\n",
       "7         当月通话交往圈人数  738722.945263     1\n",
       "20          用户网龄（年）  473035.685519     1\n",
       "23   用户近5个月平均消费值（元）  198918.894537     1\n",
       "16   用户近6个月平均消费值（元）  168560.298453     1\n",
       "12             用户年龄  115154.507431     1\n",
       "15     用户账单当月总费用（元）   57997.239500     1\n",
       "8    当月金融理财类应用使用总次数   53561.434864     1\n",
       "22          最近账单稳定性   43753.880514     1\n",
       "6     当月视频播放类应用使用次数   42216.903593     1\n",
       "18  缴费用户最近一次缴费金额（元）   35624.749925     1\n",
       "5       当月网购类应用使用次数   35128.940017     1\n",
       "19     近三个月月均商场出现次数   21968.722629     1\n",
       "13      用户当月账户余额（元）   19336.159615     1\n",
       "14          用户话费敏感度   18891.099815     1\n",
       "0     当月旅游资讯类应用使用次数   18502.724652     1\n",
       "2          当月是否景点游览    4885.395903     1\n",
       "9         是否4G不健康客户    3626.654546     1\n",
       "1        当月是否体育场馆消费    2380.484272     1\n",
       "3           当月是否看电影    2143.124624     1\n",
       "17     缴费用户当前是否欠费缴费    1286.541965     1\n",
       "10        是否经常逛商场的人    1074.814391     1\n",
       "21             充值方式     770.678640     1\n",
       "4     当月物流快递类应用使用次数     732.471266     1\n",
       "11          是否黑名单客户     337.364713     1"
      ]
     },
     "execution_count": 14,
     "metadata": {},
     "output_type": "execute_result"
    }
   ],
   "source": [
    "feature_importance_df[feature_importance_df['fold'] == 1].sort_values(by='importance', ascending=False)"
   ]
  },
  {
   "cell_type": "code",
   "execution_count": 15,
   "metadata": {
    "ExecuteTime": {
     "end_time": "2019-03-20T07:29:53.542755Z",
     "start_time": "2019-03-20T07:29:53.522768Z"
    }
   },
   "outputs": [],
   "source": [
    "data_tmp = data.copy()"
   ]
  },
  {
   "cell_type": "code",
   "execution_count": null,
   "metadata": {},
   "outputs": [],
   "source": []
  }
 ],
 "metadata": {
  "kernelspec": {
   "display_name": "Python 3",
   "language": "python",
   "name": "python3"
  },
  "language_info": {
   "codemirror_mode": {
    "name": "ipython",
    "version": 3
   },
   "file_extension": ".py",
   "mimetype": "text/x-python",
   "name": "python",
   "nbconvert_exporter": "python",
   "pygments_lexer": "ipython3",
   "version": "3.6.6"
  },
  "latex_envs": {
   "LaTeX_envs_menu_present": true,
   "autoclose": false,
   "autocomplete": true,
   "bibliofile": "biblio.bib",
   "cite_by": "apalike",
   "current_citInitial": 1,
   "eqLabelWithNumbers": true,
   "eqNumInitial": 1,
   "hotkeys": {
    "equation": "Ctrl-E",
    "itemize": "Ctrl-I"
   },
   "labels_anchors": false,
   "latex_user_defs": false,
   "report_style_numbering": false,
   "user_envs_cfg": false
  }
 },
 "nbformat": 4,
 "nbformat_minor": 2
}
