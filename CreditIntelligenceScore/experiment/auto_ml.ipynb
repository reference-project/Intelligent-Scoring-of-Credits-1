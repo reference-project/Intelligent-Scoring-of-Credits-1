{
 "cells": [
  {
   "cell_type": "code",
   "execution_count": 1,
   "metadata": {
    "ExecuteTime": {
     "end_time": "2019-03-10T14:34:42.311560Z",
     "start_time": "2019-03-10T14:34:38.099988Z"
    }
   },
   "outputs": [],
   "source": [
    "%matplotlib inline\n",
    "\n",
    "from datetime import datetime\n",
    "\n",
    "from scipy import stats\n",
    "from scipy.special import boxcox1p\n",
    "from scipy.stats import skew\n",
    "import numpy as np\n",
    "import pandas as pd\n",
    "import matplotlib.pyplot as plt\n",
    "import seaborn as sns\n",
    "import lightgbm as lgb\n",
    "import xgboost as xgb\n",
    "from sklearn.ensemble import RandomForestRegressor, GradientBoostingRegressor, RandomForestClassifier\n",
    "from sklearn.svm import SVC\n",
    "from sklearn.model_selection import GridSearchCV\n",
    "from sklearn.model_selection import train_test_split\n",
    "from sklearn.model_selection import StratifiedKFold\n",
    "from sklearn.metrics import mean_absolute_error\n",
    "from sklearn.model_selection import cross_val_score\n",
    "from scipy.special import inv_boxcox1p\n",
    "from mlxtend.regressor import StackingRegressor\n",
    "from sklearn.preprocessing import scale\n",
    "from sklearn.base import BaseEstimator, TransformerMixin, RegressorMixin, clone\n",
    "from sklearn.preprocessing import RobustScaler\n",
    "from sklearn.linear_model import ElasticNet, Lasso,  BayesianRidge, LassoLarsIC\n",
    "from mlxtend.regressor import StackingRegressor\n",
    "from sklearn.pipeline import make_pipeline\n",
    "from sklearn.preprocessing import StandardScaler\n",
    "from xgboost import XGBRegressor\n",
    "from sklearn.feature_selection import SelectPercentile, f_classif\n",
    "from scipy.stats import zscore\n",
    "\n",
    "\n",
    "import warnings\n",
    "warnings.filterwarnings('ignore')\n",
    "\n",
    "\n",
    "# 用于正常显示中文\n",
    "plt.rcParams['font.sans-serif'] = ['SimHei']\n",
    "# 用来正常显示负号\n",
    "plt.rcParams['axes.unicode_minus'] = False\n",
    "# 设置图片清晰度\n",
    "%config InlineBackend.figure_format = 'retina'  "
   ]
  },
  {
   "cell_type": "code",
   "execution_count": 2,
   "metadata": {
    "ExecuteTime": {
     "end_time": "2019-03-10T14:34:42.791302Z",
     "start_time": "2019-03-10T14:34:42.312561Z"
    }
   },
   "outputs": [],
   "source": [
    "train = pd.read_csv('../original_data/train_dataset.csv')\n",
    "test = pd.read_csv('../original_data/test_dataset.csv')"
   ]
  },
  {
   "cell_type": "code",
   "execution_count": 3,
   "metadata": {
    "ExecuteTime": {
     "end_time": "2019-03-10T14:34:42.891227Z",
     "start_time": "2019-03-10T14:34:42.795284Z"
    }
   },
   "outputs": [],
   "source": [
    "data = pd.concat([train, test]).reset_index(drop=True)"
   ]
  },
  {
   "cell_type": "code",
   "execution_count": 4,
   "metadata": {
    "ExecuteTime": {
     "end_time": "2019-03-10T14:34:42.903220Z",
     "start_time": "2019-03-10T14:34:42.895226Z"
    }
   },
   "outputs": [],
   "source": [
    "data.columns = [\n",
    "    'score', 'tour_app_count', 'sport_flag', 'sam_flag', 'tour_flag',\n",
    "    'movie_flag', 'wanda_flag', 'train_count', 'express_count', \n",
    "    'online_shopping_count', 'video_app_count', 'connect_num', 'finance_app_count',\n",
    "    'flight_count', '4g_unhealth_flag', 'uni_student_flag', 'freq_shopping_flag', 'blk_list_flag',\n",
    "    'true_name_flag', 'age', 'curr_month_balance', 'top_up_month_diff', 'uid',\n",
    "    'net_age_till_now', 'cost_sensitivity', 'total_account_fee', 'recent_6month_avg_use', 'curr_overdue_flag',\n",
    "    'top_up_amount', 'recent_3month_shopping_count'\n",
    "]"
   ]
  },
  {
   "cell_type": "markdown",
   "metadata": {
    "ExecuteTime": {
     "end_time": "2019-02-22T15:00:17.438951Z",
     "start_time": "2019-02-22T15:00:17.435955Z"
    }
   },
   "source": [
    "### 对网龄进行年份化"
   ]
  },
  {
   "cell_type": "code",
   "execution_count": 5,
   "metadata": {
    "ExecuteTime": {
     "end_time": "2019-03-10T14:34:42.957190Z",
     "start_time": "2019-03-10T14:34:42.905220Z"
    }
   },
   "outputs": [],
   "source": [
    "data['net_age_till_now'] = data['net_age_till_now'] / 12.0"
   ]
  },
  {
   "cell_type": "markdown",
   "metadata": {},
   "source": [
    "### 对缴费方式进行提取"
   ]
  },
  {
   "cell_type": "code",
   "execution_count": 6,
   "metadata": {
    "ExecuteTime": {
     "end_time": "2019-03-10T14:34:43.060129Z",
     "start_time": "2019-03-10T14:34:42.959189Z"
    }
   },
   "outputs": [],
   "source": [
    "data['top_up_amount_offline'] = 0\n",
    "data['top_up_amount_offline'][(data['top_up_amount'] % 10 == 0) & \n",
    "             data['top_up_amount'] != 0] = 1"
   ]
  },
  {
   "cell_type": "markdown",
   "metadata": {},
   "source": [
    "### 对数据进行惩罚修改\n",
    "1. 网龄 > 年龄 或者 年龄 为0\n",
    "2. 经常逛商场的人的逛商场的次数 < 不经常逛商场的人的次数"
   ]
  },
  {
   "cell_type": "code",
   "execution_count": 7,
   "metadata": {
    "ExecuteTime": {
     "end_time": "2019-03-10T14:34:46.517156Z",
     "start_time": "2019-03-10T14:34:43.062130Z"
    }
   },
   "outputs": [],
   "source": [
    "def compare_age_by_network_age(row):\n",
    "    if row['net_age_till_now'] >= row['age']:\n",
    "        return 0.0\n",
    "    else:\n",
    "        return row['age']\n",
    "    \n",
    "\n",
    "data['age'] = data.apply(compare_age_by_network_age, axis=1)"
   ]
  },
  {
   "cell_type": "code",
   "execution_count": 8,
   "metadata": {
    "ExecuteTime": {
     "end_time": "2019-03-10T14:34:46.596094Z",
     "start_time": "2019-03-10T14:34:46.519140Z"
    }
   },
   "outputs": [],
   "source": [
    "data.loc[data[(data['freq_shopping_flag'] == 1) & (\n",
    "        data['recent_3month_shopping_count'] < data[(data['freq_shopping_flag'] == 1)][\n",
    "    'recent_3month_shopping_count'].quantile(0.15))].index, \"freq_shopping_flag\"] = 0\n",
    "data.loc[data[(data['freq_shopping_flag'] == 0) & (\n",
    "        data['recent_3month_shopping_count'] > data[(data['freq_shopping_flag'] == 1)][\n",
    "    'recent_3month_shopping_count'].quantile(0.85))].index, \"freq_shopping_flag\"] = 1"
   ]
  },
  {
   "cell_type": "code",
   "execution_count": 9,
   "metadata": {
    "ExecuteTime": {
     "end_time": "2019-03-10T14:34:46.606088Z",
     "start_time": "2019-03-10T14:34:46.597093Z"
    }
   },
   "outputs": [],
   "source": [
    "data['cost_sensitivity'].replace(data['cost_sensitivity'].mode(), inplace=True)"
   ]
  },
  {
   "cell_type": "markdown",
   "metadata": {},
   "source": [
    "### 特征交叉"
   ]
  },
  {
   "cell_type": "code",
   "execution_count": 10,
   "metadata": {
    "ExecuteTime": {
     "end_time": "2019-03-10T14:34:46.633072Z",
     "start_time": "2019-03-10T14:34:46.608087Z"
    }
   },
   "outputs": [],
   "source": [
    "data['current_fee_stability'] = data['total_account_fee'] / (data['recent_6month_avg_use'] + 0.001)\n",
    "data['recent_5month_avg_use'] = (data['recent_6month_avg_use']*6-data['total_account_fee'])/5"
   ]
  },
  {
   "cell_type": "code",
   "execution_count": 11,
   "metadata": {
    "ExecuteTime": {
     "end_time": "2019-03-10T14:34:46.676047Z",
     "start_time": "2019-03-10T14:34:46.636072Z"
    }
   },
   "outputs": [],
   "source": [
    "data.drop(['uni_student_flag', 'true_name_flag', 'flight_count', \n",
    "           'train_count', 'top_up_month_diff', 'wanda_flag', 'sam_flag'], axis=1, inplace=True)"
   ]
  },
  {
   "cell_type": "markdown",
   "metadata": {},
   "source": [
    "### 模型训练"
   ]
  },
  {
   "cell_type": "code",
   "execution_count": 12,
   "metadata": {
    "ExecuteTime": {
     "end_time": "2019-03-10T14:35:03.425349Z",
     "start_time": "2019-03-10T14:34:46.677047Z"
    }
   },
   "outputs": [
    {
     "name": "stdout",
     "output_type": "stream",
     "text": [
      "Checking whether there is an H2O instance running at http://localhost:54321..... not found.\n",
      "Attempting to start a local H2O server...\n",
      "; Java HotSpot(TM) 64-Bit Server VM (build 25.181-b13, mixed mode)\n",
      "  Starting server from D:\\Users\\Administrator\\Anaconda3\\lib\\site-packages\\h2o\\backend\\bin\\h2o.jar\n",
      "  Ice root: C:\\Users\\ADMINI~1\\AppData\\Local\\Temp\\tmp_lt32qs1\n",
      "  JVM stdout: C:\\Users\\ADMINI~1\\AppData\\Local\\Temp\\tmp_lt32qs1\\h2o_Administrator_started_from_python.out\n",
      "  JVM stderr: C:\\Users\\ADMINI~1\\AppData\\Local\\Temp\\tmp_lt32qs1\\h2o_Administrator_started_from_python.err\n",
      "  Server is running at http://127.0.0.1:54321\n",
      "Connecting to H2O server at http://127.0.0.1:54321... successful.\n"
     ]
    },
    {
     "data": {
      "text/html": [
       "<div style=\"overflow:auto\"><table style=\"width:50%\"><tr><td>H2O cluster uptime:</td>\n",
       "<td>04 secs</td></tr>\n",
       "<tr><td>H2O cluster timezone:</td>\n",
       "<td>Asia/Shanghai</td></tr>\n",
       "<tr><td>H2O data parsing timezone:</td>\n",
       "<td>UTC</td></tr>\n",
       "<tr><td>H2O cluster version:</td>\n",
       "<td>3.22.1.5</td></tr>\n",
       "<tr><td>H2O cluster version age:</td>\n",
       "<td>5 days </td></tr>\n",
       "<tr><td>H2O cluster name:</td>\n",
       "<td>H2O_from_python_Administrator_kbxb39</td></tr>\n",
       "<tr><td>H2O cluster total nodes:</td>\n",
       "<td>1</td></tr>\n",
       "<tr><td>H2O cluster free memory:</td>\n",
       "<td>1.762 Gb</td></tr>\n",
       "<tr><td>H2O cluster total cores:</td>\n",
       "<td>4</td></tr>\n",
       "<tr><td>H2O cluster allowed cores:</td>\n",
       "<td>4</td></tr>\n",
       "<tr><td>H2O cluster status:</td>\n",
       "<td>accepting new members, healthy</td></tr>\n",
       "<tr><td>H2O connection url:</td>\n",
       "<td>http://127.0.0.1:54321</td></tr>\n",
       "<tr><td>H2O connection proxy:</td>\n",
       "<td>None</td></tr>\n",
       "<tr><td>H2O internal security:</td>\n",
       "<td>False</td></tr>\n",
       "<tr><td>H2O API Extensions:</td>\n",
       "<td>Amazon S3, Algos, AutoML, Core V3, Core V4</td></tr>\n",
       "<tr><td>Python version:</td>\n",
       "<td>3.6.6 final</td></tr></table></div>"
      ],
      "text/plain": [
       "--------------------------  ------------------------------------------\n",
       "H2O cluster uptime:         04 secs\n",
       "H2O cluster timezone:       Asia/Shanghai\n",
       "H2O data parsing timezone:  UTC\n",
       "H2O cluster version:        3.22.1.5\n",
       "H2O cluster version age:    5 days\n",
       "H2O cluster name:           H2O_from_python_Administrator_kbxb39\n",
       "H2O cluster total nodes:    1\n",
       "H2O cluster free memory:    1.762 Gb\n",
       "H2O cluster total cores:    4\n",
       "H2O cluster allowed cores:  4\n",
       "H2O cluster status:         accepting new members, healthy\n",
       "H2O connection url:         http://127.0.0.1:54321\n",
       "H2O connection proxy:\n",
       "H2O internal security:      False\n",
       "H2O API Extensions:         Amazon S3, Algos, AutoML, Core V3, Core V4\n",
       "Python version:             3.6.6 final\n",
       "--------------------------  ------------------------------------------"
      ]
     },
     "metadata": {},
     "output_type": "display_data"
    }
   ],
   "source": [
    "import h2o\n",
    "from h2o.automl import H2OAutoML\n",
    "h2o.init(nthreads=-1)"
   ]
  },
  {
   "cell_type": "code",
   "execution_count": 13,
   "metadata": {
    "ExecuteTime": {
     "end_time": "2019-03-10T14:35:03.435344Z",
     "start_time": "2019-03-10T14:35:03.428348Z"
    }
   },
   "outputs": [],
   "source": [
    "# def evaluation(data):\n",
    "#     n_folds = 5\n",
    "#     train = data[:50000]\n",
    "#     test = data[50000:]\n",
    "#     lgb_mae = {\n",
    "#         'learning_rate': 0.01,\n",
    "#         'boosting_type': 'gbdt',\n",
    "#         'objective': 'regression_l1',\n",
    "#         'metric': 'mae',\n",
    "#         'feature_fraction': 0.5,\n",
    "#         'bagging_fraction': 0.7,\n",
    "#         'bagging_freq': 1,\n",
    "#         'num_leaves': 30,\n",
    "#         'verbose': -1,\n",
    "#         'max_depth': 5,\n",
    "#         'lambda_l2': 5,\n",
    "#         'lambda_l1': 1,\n",
    "#         'min_data_in_leaf': 30,\n",
    "#         'nthread': 4,\n",
    "#     }\n",
    "#     train_y = train['score']\n",
    "#     train_x = train.drop(['score', 'uid'], axis=1)\n",
    "#     test_x = test.drop(['score', 'uid'], axis=1)\n",
    "#     kfold = StratifiedKFold(n_splits=n_folds, shuffle=True, random_state=86)\n",
    "#     kf = kfold.split(train_x, train_y)\n",
    "#     valid_best_l2_all = 0\n",
    "#     test_name = test[['uid']]\n",
    "#     cv_pred = np.zeros(test.shape[0])\n",
    "#     count = 0\n",
    "#     global feature_importance_df\n",
    "#     for i, (train_fold, validate) in enumerate(kf):\n",
    "#         print('fold: ',i, ' training')\n",
    "#         # 切分数据\n",
    "#         X_train, X_test, y_train, y_test = train_x.iloc[train_fold, :], train_x.iloc[validate, :], train_y[train_fold], train_y[validate]\n",
    "\n",
    "#         # 载入数据集\n",
    "#         dtrain = lgb.Dataset(X_train, y_train)\n",
    "#         dvalid = lgb.Dataset(X_test, y_test, reference=dtrain)\n",
    "\n",
    "#         bst = lgb.train(lgb_mae, dtrain, num_boost_round=100000, valid_sets=dvalid, \n",
    "#                         verbose_eval=-1, early_stopping_rounds=100)\n",
    "#         # 训练\n",
    "#         y_pred = bst.predict(X_test, num_iteration=bst.best_iteration)\n",
    "#         cv_pred += bst.predict(test_x, num_iteration=bst.best_iteration)\n",
    "#         valid_best_l2_all += bst.best_score['valid_0']['l1']\n",
    "\n",
    "#         count += 1\n",
    "#     valid_best_l2_all /= n_folds\n",
    "#     cv_pred /= n_folds\n",
    "#     result = test_name.copy()\n",
    "#     result.columns = ['id']\n",
    "#     result['score'] = cv_pred\n",
    "#     result['score'] = result['score'].map(round)\n",
    "#     result.to_csv('../result/result_mae.csv', index=None)\n",
    "#     print('cv score for valid is: ', 1/(1+valid_best_l2_all))"
   ]
  },
  {
   "cell_type": "code",
   "execution_count": 17,
   "metadata": {
    "ExecuteTime": {
     "end_time": "2019-03-10T15:57:17.257235Z",
     "start_time": "2019-03-10T15:57:17.246240Z"
    }
   },
   "outputs": [],
   "source": [
    "def get_score(y_true, y_pred):\n",
    "    mae = mean_absolute_error(y_true, y_pred)\n",
    "    return 1.0 / (mae + 1)\n",
    "\n",
    "\n",
    "def evaluation(data):\n",
    "    n_folds = 5\n",
    "    train = data[:50000]\n",
    "    test = data[50000:]\n",
    "    train_x = train.drop(['uid'], axis=1)\n",
    "    test_x = test.drop(['score', 'uid'], axis=1)\n",
    "    valid_best_l2_all = 0\n",
    "    test_name = test[['uid']]\n",
    "    remove_columns = ['uid', 'score']\n",
    "    features_columns = [column for column in train.columns if column not in remove_columns]\n",
    "    aml = H2OAutoML(max_models=320, seed=2019, max_runtime_secs=12800)\n",
    "    \n",
    "    aml.train(x=features_columns, y='score', training_frame= h2o.H2OFrame(train_x))\n",
    "\n",
    "        \n",
    "    y_pred =aml.predict(h2o.H2OFrame(test_x)).as_data_frame().values.flatten()\n",
    "    test_name['score'] = y_pred\n",
    "    \n",
    "    return test_name"
   ]
  },
  {
   "cell_type": "code",
   "execution_count": 18,
   "metadata": {
    "ExecuteTime": {
     "end_time": "2019-03-10T18:55:39.535048Z",
     "start_time": "2019-03-10T15:57:23.471424Z"
    },
    "scrolled": true
   },
   "outputs": [
    {
     "name": "stdout",
     "output_type": "stream",
     "text": [
      "Parse progress: |█████████████████████████████████████████████████████████| 100%\n",
      "AutoML progress: |████████████████████████████████████████████████████████| 100%\n",
      "Parse progress: |█████████████████████████████████████████████████████████| 100%\n",
      "stackedensemble prediction progress: |████████████████████████████████████| 100%\n"
     ]
    }
   ],
   "source": [
    "result = evaluation(data)"
   ]
  },
  {
   "cell_type": "code",
   "execution_count": 19,
   "metadata": {
    "ExecuteTime": {
     "end_time": "2019-03-11T00:22:33.373928Z",
     "start_time": "2019-03-11T00:22:33.204478Z"
    }
   },
   "outputs": [
    {
     "data": {
      "text/html": [
       "<div>\n",
       "<style scoped>\n",
       "    .dataframe tbody tr th:only-of-type {\n",
       "        vertical-align: middle;\n",
       "    }\n",
       "\n",
       "    .dataframe tbody tr th {\n",
       "        vertical-align: top;\n",
       "    }\n",
       "\n",
       "    .dataframe thead th {\n",
       "        text-align: right;\n",
       "    }\n",
       "</style>\n",
       "<table border=\"1\" class=\"dataframe\">\n",
       "  <thead>\n",
       "    <tr style=\"text-align: right;\">\n",
       "      <th></th>\n",
       "      <th>uid</th>\n",
       "      <th>score</th>\n",
       "    </tr>\n",
       "  </thead>\n",
       "  <tbody>\n",
       "    <tr>\n",
       "      <th>50000</th>\n",
       "      <td>7171737d49b143d1b38883a39e4a5730</td>\n",
       "      <td>601.878841</td>\n",
       "    </tr>\n",
       "    <tr>\n",
       "      <th>50001</th>\n",
       "      <td>3af0a449d5424488912e8fb2bf4b9faa</td>\n",
       "      <td>531.419246</td>\n",
       "    </tr>\n",
       "    <tr>\n",
       "      <th>50002</th>\n",
       "      <td>eb2cf02e0d5c4d1294dd73e776dbb441</td>\n",
       "      <td>670.045097</td>\n",
       "    </tr>\n",
       "    <tr>\n",
       "      <th>50003</th>\n",
       "      <td>9c0f780ecb254670a11aa9e3f10777c5</td>\n",
       "      <td>678.396684</td>\n",
       "    </tr>\n",
       "    <tr>\n",
       "      <th>50004</th>\n",
       "      <td>d794eed46c1e44f785a575f18b3023a5</td>\n",
       "      <td>661.549182</td>\n",
       "    </tr>\n",
       "    <tr>\n",
       "      <th>50005</th>\n",
       "      <td>18f6a7d824a1421b9da3e5f10854c3df</td>\n",
       "      <td>612.693601</td>\n",
       "    </tr>\n",
       "    <tr>\n",
       "      <th>50006</th>\n",
       "      <td>e7b63888a36f499a88811c0936bb12df</td>\n",
       "      <td>639.857407</td>\n",
       "    </tr>\n",
       "    <tr>\n",
       "      <th>50007</th>\n",
       "      <td>f995ef4d96fc426191a104421b0f5b20</td>\n",
       "      <td>566.187332</td>\n",
       "    </tr>\n",
       "    <tr>\n",
       "      <th>50008</th>\n",
       "      <td>11a3ce45ce234f7db4e91e5f152dc8b8</td>\n",
       "      <td>672.994952</td>\n",
       "    </tr>\n",
       "    <tr>\n",
       "      <th>50009</th>\n",
       "      <td>86ebeac087284c87bbcb1281d95ef9eb</td>\n",
       "      <td>583.787336</td>\n",
       "    </tr>\n",
       "    <tr>\n",
       "      <th>50010</th>\n",
       "      <td>195ada20e0644bbaa9590b6f2970eaea</td>\n",
       "      <td>650.302369</td>\n",
       "    </tr>\n",
       "    <tr>\n",
       "      <th>50011</th>\n",
       "      <td>63d788ea10244942bf7130f63ae78a90</td>\n",
       "      <td>559.553387</td>\n",
       "    </tr>\n",
       "    <tr>\n",
       "      <th>50012</th>\n",
       "      <td>4207accd0d9d42d1a990c1b2f3f95c88</td>\n",
       "      <td>647.078504</td>\n",
       "    </tr>\n",
       "    <tr>\n",
       "      <th>50013</th>\n",
       "      <td>a3b53661c96c46f6844ac30ca90b76ff</td>\n",
       "      <td>539.506562</td>\n",
       "    </tr>\n",
       "    <tr>\n",
       "      <th>50014</th>\n",
       "      <td>a6446d00741343ee92036cd373217655</td>\n",
       "      <td>656.334231</td>\n",
       "    </tr>\n",
       "    <tr>\n",
       "      <th>50015</th>\n",
       "      <td>8fb6014618ed48299a2a22648c26b953</td>\n",
       "      <td>620.435785</td>\n",
       "    </tr>\n",
       "    <tr>\n",
       "      <th>50016</th>\n",
       "      <td>f3932aec4f7d4b7a8e6b1d186e5a2faa</td>\n",
       "      <td>613.740314</td>\n",
       "    </tr>\n",
       "    <tr>\n",
       "      <th>50017</th>\n",
       "      <td>bd4a59e1eabd4b93b63021e6142ae363</td>\n",
       "      <td>643.756366</td>\n",
       "    </tr>\n",
       "    <tr>\n",
       "      <th>50018</th>\n",
       "      <td>560d3f89a6614916b6fa0894529cc0ce</td>\n",
       "      <td>646.871089</td>\n",
       "    </tr>\n",
       "    <tr>\n",
       "      <th>50019</th>\n",
       "      <td>6225520b8576493d9297d9016dd3b784</td>\n",
       "      <td>589.157587</td>\n",
       "    </tr>\n",
       "    <tr>\n",
       "      <th>50020</th>\n",
       "      <td>f73e28d9908e4e28b32521907e3c9b24</td>\n",
       "      <td>536.550512</td>\n",
       "    </tr>\n",
       "    <tr>\n",
       "      <th>50021</th>\n",
       "      <td>d5aef6475c4a4a658449895f927e3668</td>\n",
       "      <td>665.440133</td>\n",
       "    </tr>\n",
       "    <tr>\n",
       "      <th>50022</th>\n",
       "      <td>6451cc8b7808485295c092f3f6ab96a3</td>\n",
       "      <td>596.288395</td>\n",
       "    </tr>\n",
       "    <tr>\n",
       "      <th>50023</th>\n",
       "      <td>4ca166b893d6439da100dbc57c18e5af</td>\n",
       "      <td>590.494092</td>\n",
       "    </tr>\n",
       "    <tr>\n",
       "      <th>50024</th>\n",
       "      <td>7742bc4d80c9496bb61df6c638d22594</td>\n",
       "      <td>611.962734</td>\n",
       "    </tr>\n",
       "    <tr>\n",
       "      <th>50025</th>\n",
       "      <td>67b7865d70d745eb9d4f43aff3d85e64</td>\n",
       "      <td>650.675347</td>\n",
       "    </tr>\n",
       "    <tr>\n",
       "      <th>50026</th>\n",
       "      <td>f0960e3c59cb4f52ac87d79fc4ed3057</td>\n",
       "      <td>674.226464</td>\n",
       "    </tr>\n",
       "    <tr>\n",
       "      <th>50027</th>\n",
       "      <td>34f8907caeee48dabb52e28446ffcaf8</td>\n",
       "      <td>642.877509</td>\n",
       "    </tr>\n",
       "    <tr>\n",
       "      <th>50028</th>\n",
       "      <td>13095bc658e741eaad99eff134940d2d</td>\n",
       "      <td>610.561031</td>\n",
       "    </tr>\n",
       "    <tr>\n",
       "      <th>50029</th>\n",
       "      <td>90ebfc21c6f94c299999a5e0a1ad03de</td>\n",
       "      <td>592.025587</td>\n",
       "    </tr>\n",
       "    <tr>\n",
       "      <th>...</th>\n",
       "      <td>...</td>\n",
       "      <td>...</td>\n",
       "    </tr>\n",
       "    <tr>\n",
       "      <th>99970</th>\n",
       "      <td>70c5f229370342b1b3639067df8f4c19</td>\n",
       "      <td>595.958421</td>\n",
       "    </tr>\n",
       "    <tr>\n",
       "      <th>99971</th>\n",
       "      <td>3873d2e653c44ce7a3d96b7ddccd3928</td>\n",
       "      <td>626.443757</td>\n",
       "    </tr>\n",
       "    <tr>\n",
       "      <th>99972</th>\n",
       "      <td>50b939508e064ae6b477b739cd33da89</td>\n",
       "      <td>617.260125</td>\n",
       "    </tr>\n",
       "    <tr>\n",
       "      <th>99973</th>\n",
       "      <td>fa907682abe64bc1abb2c793b2bffa21</td>\n",
       "      <td>620.515022</td>\n",
       "    </tr>\n",
       "    <tr>\n",
       "      <th>99974</th>\n",
       "      <td>7c117021d0aa4c66843449bd5fde3a75</td>\n",
       "      <td>624.484836</td>\n",
       "    </tr>\n",
       "    <tr>\n",
       "      <th>99975</th>\n",
       "      <td>23faf8bdc77a4f6bbbb5b6d57787c275</td>\n",
       "      <td>643.328867</td>\n",
       "    </tr>\n",
       "    <tr>\n",
       "      <th>99976</th>\n",
       "      <td>a2972b0a0a414e14bdd5a6e6d5e440fe</td>\n",
       "      <td>524.809403</td>\n",
       "    </tr>\n",
       "    <tr>\n",
       "      <th>99977</th>\n",
       "      <td>e5c5b671de404e018d8a28931f78161c</td>\n",
       "      <td>650.000946</td>\n",
       "    </tr>\n",
       "    <tr>\n",
       "      <th>99978</th>\n",
       "      <td>ef5fc7a994684dfcbb6f821b4e1d79c6</td>\n",
       "      <td>651.100088</td>\n",
       "    </tr>\n",
       "    <tr>\n",
       "      <th>99979</th>\n",
       "      <td>371ad91bcb88406699f2f762cb3aa19f</td>\n",
       "      <td>567.538634</td>\n",
       "    </tr>\n",
       "    <tr>\n",
       "      <th>99980</th>\n",
       "      <td>4a41693c5d254c20a49a7e069b91d1c0</td>\n",
       "      <td>594.863382</td>\n",
       "    </tr>\n",
       "    <tr>\n",
       "      <th>99981</th>\n",
       "      <td>719d19480495437da3d46274dc7e28d7</td>\n",
       "      <td>596.702759</td>\n",
       "    </tr>\n",
       "    <tr>\n",
       "      <th>99982</th>\n",
       "      <td>01c174e0d6534736b178cb19e08055a5</td>\n",
       "      <td>649.041575</td>\n",
       "    </tr>\n",
       "    <tr>\n",
       "      <th>99983</th>\n",
       "      <td>e9a973ac39e648059eb1af1525e5e7f2</td>\n",
       "      <td>668.194456</td>\n",
       "    </tr>\n",
       "    <tr>\n",
       "      <th>99984</th>\n",
       "      <td>ec848c467aca4601913f240d38737836</td>\n",
       "      <td>546.236472</td>\n",
       "    </tr>\n",
       "    <tr>\n",
       "      <th>99985</th>\n",
       "      <td>23d36690eb22436ea82a254dcd9eff63</td>\n",
       "      <td>599.507486</td>\n",
       "    </tr>\n",
       "    <tr>\n",
       "      <th>99986</th>\n",
       "      <td>26cedf7bf01140b3b3b917b2dc31fdb8</td>\n",
       "      <td>647.637739</td>\n",
       "    </tr>\n",
       "    <tr>\n",
       "      <th>99987</th>\n",
       "      <td>2e84e511425448a7bb51c4ca90442b58</td>\n",
       "      <td>636.322132</td>\n",
       "    </tr>\n",
       "    <tr>\n",
       "      <th>99988</th>\n",
       "      <td>9a38441f2bf8479da2d1f1b20c710874</td>\n",
       "      <td>644.740804</td>\n",
       "    </tr>\n",
       "    <tr>\n",
       "      <th>99989</th>\n",
       "      <td>32d31a2bc6de4fbf8119424e994cfe8f</td>\n",
       "      <td>571.305080</td>\n",
       "    </tr>\n",
       "    <tr>\n",
       "      <th>99990</th>\n",
       "      <td>4c988d6976f548a8927f3a8693d7cbbd</td>\n",
       "      <td>537.531100</td>\n",
       "    </tr>\n",
       "    <tr>\n",
       "      <th>99991</th>\n",
       "      <td>3d4036c4c28141dd9b5a5b1a659682f8</td>\n",
       "      <td>532.746654</td>\n",
       "    </tr>\n",
       "    <tr>\n",
       "      <th>99992</th>\n",
       "      <td>66ea074e918e4e559efc68d2a298a87f</td>\n",
       "      <td>620.317693</td>\n",
       "    </tr>\n",
       "    <tr>\n",
       "      <th>99993</th>\n",
       "      <td>7cd1d6b2eaec450390eccf07028b17e9</td>\n",
       "      <td>660.136033</td>\n",
       "    </tr>\n",
       "    <tr>\n",
       "      <th>99994</th>\n",
       "      <td>f2fab4d7c251460fb85cb32f6c64c2da</td>\n",
       "      <td>630.464405</td>\n",
       "    </tr>\n",
       "    <tr>\n",
       "      <th>99995</th>\n",
       "      <td>573d8e9a1c2842d3a7fe0cac44145c78</td>\n",
       "      <td>543.891436</td>\n",
       "    </tr>\n",
       "    <tr>\n",
       "      <th>99996</th>\n",
       "      <td>b186350facc940d3a288e48a9f2d367b</td>\n",
       "      <td>630.904683</td>\n",
       "    </tr>\n",
       "    <tr>\n",
       "      <th>99997</th>\n",
       "      <td>bed687a2a5a44c2e9a764233b6866cd4</td>\n",
       "      <td>546.485898</td>\n",
       "    </tr>\n",
       "    <tr>\n",
       "      <th>99998</th>\n",
       "      <td>1d0d9e079f164620bb84c9b1091de654</td>\n",
       "      <td>536.083171</td>\n",
       "    </tr>\n",
       "    <tr>\n",
       "      <th>99999</th>\n",
       "      <td>e9b5e148e5cc4993bd990cbf15a9c0e6</td>\n",
       "      <td>551.820691</td>\n",
       "    </tr>\n",
       "  </tbody>\n",
       "</table>\n",
       "<p>50000 rows × 2 columns</p>\n",
       "</div>"
      ],
      "text/plain": [
       "                                    uid       score\n",
       "50000  7171737d49b143d1b38883a39e4a5730  601.878841\n",
       "50001  3af0a449d5424488912e8fb2bf4b9faa  531.419246\n",
       "50002  eb2cf02e0d5c4d1294dd73e776dbb441  670.045097\n",
       "50003  9c0f780ecb254670a11aa9e3f10777c5  678.396684\n",
       "50004  d794eed46c1e44f785a575f18b3023a5  661.549182\n",
       "50005  18f6a7d824a1421b9da3e5f10854c3df  612.693601\n",
       "50006  e7b63888a36f499a88811c0936bb12df  639.857407\n",
       "50007  f995ef4d96fc426191a104421b0f5b20  566.187332\n",
       "50008  11a3ce45ce234f7db4e91e5f152dc8b8  672.994952\n",
       "50009  86ebeac087284c87bbcb1281d95ef9eb  583.787336\n",
       "50010  195ada20e0644bbaa9590b6f2970eaea  650.302369\n",
       "50011  63d788ea10244942bf7130f63ae78a90  559.553387\n",
       "50012  4207accd0d9d42d1a990c1b2f3f95c88  647.078504\n",
       "50013  a3b53661c96c46f6844ac30ca90b76ff  539.506562\n",
       "50014  a6446d00741343ee92036cd373217655  656.334231\n",
       "50015  8fb6014618ed48299a2a22648c26b953  620.435785\n",
       "50016  f3932aec4f7d4b7a8e6b1d186e5a2faa  613.740314\n",
       "50017  bd4a59e1eabd4b93b63021e6142ae363  643.756366\n",
       "50018  560d3f89a6614916b6fa0894529cc0ce  646.871089\n",
       "50019  6225520b8576493d9297d9016dd3b784  589.157587\n",
       "50020  f73e28d9908e4e28b32521907e3c9b24  536.550512\n",
       "50021  d5aef6475c4a4a658449895f927e3668  665.440133\n",
       "50022  6451cc8b7808485295c092f3f6ab96a3  596.288395\n",
       "50023  4ca166b893d6439da100dbc57c18e5af  590.494092\n",
       "50024  7742bc4d80c9496bb61df6c638d22594  611.962734\n",
       "50025  67b7865d70d745eb9d4f43aff3d85e64  650.675347\n",
       "50026  f0960e3c59cb4f52ac87d79fc4ed3057  674.226464\n",
       "50027  34f8907caeee48dabb52e28446ffcaf8  642.877509\n",
       "50028  13095bc658e741eaad99eff134940d2d  610.561031\n",
       "50029  90ebfc21c6f94c299999a5e0a1ad03de  592.025587\n",
       "...                                 ...         ...\n",
       "99970  70c5f229370342b1b3639067df8f4c19  595.958421\n",
       "99971  3873d2e653c44ce7a3d96b7ddccd3928  626.443757\n",
       "99972  50b939508e064ae6b477b739cd33da89  617.260125\n",
       "99973  fa907682abe64bc1abb2c793b2bffa21  620.515022\n",
       "99974  7c117021d0aa4c66843449bd5fde3a75  624.484836\n",
       "99975  23faf8bdc77a4f6bbbb5b6d57787c275  643.328867\n",
       "99976  a2972b0a0a414e14bdd5a6e6d5e440fe  524.809403\n",
       "99977  e5c5b671de404e018d8a28931f78161c  650.000946\n",
       "99978  ef5fc7a994684dfcbb6f821b4e1d79c6  651.100088\n",
       "99979  371ad91bcb88406699f2f762cb3aa19f  567.538634\n",
       "99980  4a41693c5d254c20a49a7e069b91d1c0  594.863382\n",
       "99981  719d19480495437da3d46274dc7e28d7  596.702759\n",
       "99982  01c174e0d6534736b178cb19e08055a5  649.041575\n",
       "99983  e9a973ac39e648059eb1af1525e5e7f2  668.194456\n",
       "99984  ec848c467aca4601913f240d38737836  546.236472\n",
       "99985  23d36690eb22436ea82a254dcd9eff63  599.507486\n",
       "99986  26cedf7bf01140b3b3b917b2dc31fdb8  647.637739\n",
       "99987  2e84e511425448a7bb51c4ca90442b58  636.322132\n",
       "99988  9a38441f2bf8479da2d1f1b20c710874  644.740804\n",
       "99989  32d31a2bc6de4fbf8119424e994cfe8f  571.305080\n",
       "99990  4c988d6976f548a8927f3a8693d7cbbd  537.531100\n",
       "99991  3d4036c4c28141dd9b5a5b1a659682f8  532.746654\n",
       "99992  66ea074e918e4e559efc68d2a298a87f  620.317693\n",
       "99993  7cd1d6b2eaec450390eccf07028b17e9  660.136033\n",
       "99994  f2fab4d7c251460fb85cb32f6c64c2da  630.464405\n",
       "99995  573d8e9a1c2842d3a7fe0cac44145c78  543.891436\n",
       "99996  b186350facc940d3a288e48a9f2d367b  630.904683\n",
       "99997  bed687a2a5a44c2e9a764233b6866cd4  546.485898\n",
       "99998  1d0d9e079f164620bb84c9b1091de654  536.083171\n",
       "99999  e9b5e148e5cc4993bd990cbf15a9c0e6  551.820691\n",
       "\n",
       "[50000 rows x 2 columns]"
      ]
     },
     "execution_count": 19,
     "metadata": {},
     "output_type": "execute_result"
    }
   ],
   "source": [
    "result"
   ]
  },
  {
   "cell_type": "code",
   "execution_count": 21,
   "metadata": {
    "ExecuteTime": {
     "end_time": "2019-03-11T00:23:16.453823Z",
     "start_time": "2019-03-11T00:23:16.188977Z"
    }
   },
   "outputs": [],
   "source": [
    "result.to_csv('../result/auto_ml.csv', index=None)"
   ]
  },
  {
   "cell_type": "code",
   "execution_count": null,
   "metadata": {},
   "outputs": [],
   "source": []
  }
 ],
 "metadata": {
  "kernelspec": {
   "display_name": "Python 3",
   "language": "python",
   "name": "python3"
  },
  "language_info": {
   "codemirror_mode": {
    "name": "ipython",
    "version": 3
   },
   "file_extension": ".py",
   "mimetype": "text/x-python",
   "name": "python",
   "nbconvert_exporter": "python",
   "pygments_lexer": "ipython3",
   "version": "3.6.6"
  },
  "latex_envs": {
   "LaTeX_envs_menu_present": true,
   "autoclose": false,
   "autocomplete": true,
   "bibliofile": "biblio.bib",
   "cite_by": "apalike",
   "current_citInitial": 1,
   "eqLabelWithNumbers": true,
   "eqNumInitial": 1,
   "hotkeys": {
    "equation": "Ctrl-E",
    "itemize": "Ctrl-I"
   },
   "labels_anchors": false,
   "latex_user_defs": false,
   "report_style_numbering": false,
   "user_envs_cfg": false
  }
 },
 "nbformat": 4,
 "nbformat_minor": 2
}
