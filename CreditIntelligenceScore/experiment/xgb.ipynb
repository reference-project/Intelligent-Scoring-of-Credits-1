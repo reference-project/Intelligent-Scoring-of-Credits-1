{
 "cells": [
  {
   "cell_type": "code",
   "execution_count": 1,
   "metadata": {
    "ExecuteTime": {
     "end_time": "2019-03-20T01:18:32.332542Z",
     "start_time": "2019-03-20T01:18:32.290585Z"
    }
   },
   "outputs": [],
   "source": [
    "%matplotlib inline\n",
    "\n",
    "from datetime import datetime\n",
    "\n",
    "from scipy import stats\n",
    "from scipy.special import boxcox1p\n",
    "from scipy.stats import skew\n",
    "import numpy as np\n",
    "import pandas as pd\n",
    "import matplotlib.pyplot as plt\n",
    "import seaborn as sns\n",
    "import lightgbm as lgb\n",
    "import xgboost as xgb\n",
    "from sklearn.model_selection import KFold\n",
    "from sklearn.metrics import mean_absolute_error\n",
    "from sklearn.model_selection import cross_val_score\n",
    "from mlxtend.regressor import StackingRegressor\n",
    "from sklearn.preprocessing import scale\n",
    "from sklearn.base import BaseEstimator, TransformerMixin, RegressorMixin, clone\n",
    "from sklearn.preprocessing import RobustScaler\n",
    "from sklearn.linear_model import ElasticNet, Lasso,  BayesianRidge, LassoLarsIC\n",
    "from mlxtend.regressor import StackingRegressor\n",
    "from sklearn.pipeline import make_pipeline\n",
    "from sklearn.preprocessing import StandardScaler\n",
    "from sklearn.feature_selection import SelectPercentile, f_classif\n",
    "from scipy.stats import zscore\n",
    "\n",
    "\n",
    "import warnings\n",
    "warnings.filterwarnings('ignore')\n",
    "\n",
    "\n",
    "# 用于正常显示中文\n",
    "plt.rcParams['font.sans-serif'] = ['SimHei']\n",
    "# 用来正常显示负号\n",
    "plt.rcParams['axes.unicode_minus'] = False\n",
    "# 设置图片清晰度\n",
    "%config InlineBackend.figure_format = 'retina'  "
   ]
  },
  {
   "cell_type": "code",
   "execution_count": 2,
   "metadata": {
    "ExecuteTime": {
     "end_time": "2019-03-20T01:18:34.569229Z",
     "start_time": "2019-03-20T01:18:33.488419Z"
    }
   },
   "outputs": [],
   "source": [
    "train = pd.read_csv('../original_data/train_dataset.csv')\n",
    "test = pd.read_csv('../original_data/test_dataset.csv')"
   ]
  },
  {
   "cell_type": "code",
   "execution_count": 3,
   "metadata": {
    "ExecuteTime": {
     "end_time": "2019-03-20T01:18:36.675942Z",
     "start_time": "2019-03-20T01:18:36.512179Z"
    }
   },
   "outputs": [],
   "source": [
    "data = pd.concat([train, test]).reset_index(drop=True)"
   ]
  },
  {
   "cell_type": "markdown",
   "metadata": {
    "ExecuteTime": {
     "end_time": "2019-03-18T11:31:49.161944Z",
     "start_time": "2019-03-18T11:31:49.156947Z"
    }
   },
   "source": [
    "### 对数据进行截断"
   ]
  },
  {
   "cell_type": "code",
   "execution_count": 4,
   "metadata": {
    "ExecuteTime": {
     "end_time": "2019-03-20T01:18:38.716422Z",
     "start_time": "2019-03-20T01:18:38.548428Z"
    }
   },
   "outputs": [],
   "source": [
    "columns = ['当月视频播放类应用使用次数', '用户当月账户余额（元）', '当月物流快递类应用使用次数', '当月飞机类应用使用次数']\n",
    "for col in columns:\n",
    "    up = np.percentile(data[col].values, 99.99)\n",
    "    down = np.percentile(data[col].values,0.01)\n",
    "    data.loc[data[col]>up, col] = up\n",
    "    data.loc[data[col]<down, col] = down"
   ]
  },
  {
   "cell_type": "markdown",
   "metadata": {
    "ExecuteTime": {
     "end_time": "2019-02-22T15:00:17.438951Z",
     "start_time": "2019-02-22T15:00:17.435955Z"
    }
   },
   "source": [
    "### 对网龄进行年份化"
   ]
  },
  {
   "cell_type": "code",
   "execution_count": 5,
   "metadata": {
    "ExecuteTime": {
     "end_time": "2019-03-20T01:18:40.453959Z",
     "start_time": "2019-03-20T01:18:39.913582Z"
    }
   },
   "outputs": [],
   "source": [
    "data['用户网龄（年）'] = data['用户网龄（月）'] / 12.0\n",
    "data.drop(['用户网龄（月）'], axis=1, inplace=True)"
   ]
  },
  {
   "cell_type": "markdown",
   "metadata": {},
   "source": [
    "### 对缴费方式进行提取"
   ]
  },
  {
   "cell_type": "code",
   "execution_count": 6,
   "metadata": {
    "ExecuteTime": {
     "end_time": "2019-03-20T01:18:41.660654Z",
     "start_time": "2019-03-20T01:18:41.597639Z"
    }
   },
   "outputs": [],
   "source": [
    "def extract_way(s):\n",
    "    if s == 0:\n",
    "        return -1\n",
    "    elif s % 10 == 0:\n",
    "        return 1\n",
    "    else:\n",
    "        return 0\n",
    "\n",
    "data['充值方式'] = data['缴费用户最近一次缴费金额（元）'].map(extract_way)"
   ]
  },
  {
   "cell_type": "markdown",
   "metadata": {},
   "source": [
    "### 对数据进行惩罚修改\n",
    "1. 网龄 > 年龄\n",
    "2. 经常逛商场的人的逛商场的次数 < 不经常逛商场的人的次数"
   ]
  },
  {
   "cell_type": "code",
   "execution_count": 7,
   "metadata": {
    "ExecuteTime": {
     "end_time": "2019-03-20T01:18:46.707262Z",
     "start_time": "2019-03-20T01:18:43.618809Z"
    }
   },
   "outputs": [],
   "source": [
    "def compare_age_by_network_age(row):\n",
    "    if row['用户网龄（年）'] >= row['用户年龄']:\n",
    "        return 0.0\n",
    "    else:\n",
    "        return row['用户年龄']\n",
    "    \n",
    "\n",
    "data['用户年龄'] = data.apply(compare_age_by_network_age, axis=1)"
   ]
  },
  {
   "cell_type": "code",
   "execution_count": 8,
   "metadata": {
    "ExecuteTime": {
     "end_time": "2019-03-20T01:18:48.738977Z",
     "start_time": "2019-03-20T01:18:48.585065Z"
    }
   },
   "outputs": [],
   "source": [
    "data.loc[data[(data['是否经常逛商场的人'] == 1) & (\n",
    "        data['近三个月月均商场出现次数'] < data[(data['是否经常逛商场的人'] == 1)][\n",
    "    '近三个月月均商场出现次数'].quantile(0.15))].index, \"是否经常逛商场的人\"] = 0\n",
    "data.loc[data[(data['是否经常逛商场的人'] == 0) & (\n",
    "        data['近三个月月均商场出现次数'] > data[(data['是否经常逛商场的人'] == 1)][\n",
    "    '近三个月月均商场出现次数'].quantile(0.85))].index, \"是否经常逛商场的人\"] = 1"
   ]
  },
  {
   "cell_type": "markdown",
   "metadata": {},
   "source": [
    "### 特征交叉"
   ]
  },
  {
   "cell_type": "code",
   "execution_count": 9,
   "metadata": {
    "ExecuteTime": {
     "end_time": "2019-03-20T01:18:49.964269Z",
     "start_time": "2019-03-20T01:18:49.953277Z"
    }
   },
   "outputs": [],
   "source": [
    "data['当月账单超过平均消费'] = data['用户账单当月总费用（元）'] - data['用户近6个月平均消费值（元）']\n",
    "data['用户近5个月平均消费值（元）'] = data['用户近6个月平均消费值（元）']*6-data['用户账单当月总费用（元）']"
   ]
  },
  {
   "cell_type": "code",
   "execution_count": 10,
   "metadata": {
    "ExecuteTime": {
     "end_time": "2019-03-20T01:18:52.541782Z",
     "start_time": "2019-03-20T01:18:52.532788Z"
    }
   },
   "outputs": [],
   "source": [
    "data['交通APP'] = data['当月飞机类应用使用次数'] + data['当月火车类应用使用次数']     "
   ]
  },
  {
   "cell_type": "markdown",
   "metadata": {},
   "source": [
    "### 丢弃列"
   ]
  },
  {
   "cell_type": "code",
   "execution_count": 11,
   "metadata": {
    "ExecuteTime": {
     "end_time": "2019-03-20T01:18:54.044916Z",
     "start_time": "2019-03-20T01:18:53.995945Z"
    }
   },
   "outputs": [],
   "source": [
    "data.drop(['是否大学生客户', '用户实名制是否通过核实', '用户最近一次缴费距今时长（月）', \n",
    "           '当月是否到过福州山姆会员店', '当月是否逛过福州仓山万达', '当月火车类应用使用次数',\n",
    "           '当月飞机类应用使用次数'], axis=1, inplace=True)"
   ]
  },
  {
   "cell_type": "code",
   "execution_count": 12,
   "metadata": {
    "ExecuteTime": {
     "end_time": "2019-03-20T01:18:55.693979Z",
     "start_time": "2019-03-20T01:18:55.075323Z"
    }
   },
   "outputs": [],
   "source": [
    "log_feats = ['当月通话交往圈人数', '当月金融理财类应用使用总次数', '当月视频播放类应用使用次数', '交通APP'] \n",
    "for col in log_feats:\n",
    "    data[col] = data[col].map(lambda x: np.log1p(x))"
   ]
  },
  {
   "cell_type": "markdown",
   "metadata": {},
   "source": [
    "### 模型训练"
   ]
  },
  {
   "cell_type": "code",
   "execution_count": 13,
   "metadata": {
    "ExecuteTime": {
     "end_time": "2019-03-20T01:19:04.510335Z",
     "start_time": "2019-03-20T01:19:04.506342Z"
    }
   },
   "outputs": [],
   "source": [
    "feature_importance_df = pd.DataFrame()"
   ]
  },
  {
   "cell_type": "code",
   "execution_count": 16,
   "metadata": {
    "ExecuteTime": {
     "end_time": "2019-03-20T01:58:31.794274Z",
     "start_time": "2019-03-20T01:58:31.779283Z"
    }
   },
   "outputs": [],
   "source": [
    "def evaluation(data):\n",
    "    n_folds = 10\n",
    "    train = data[:50000]\n",
    "    test = data[50000:]\n",
    "    xgb_params = {\n",
    "        'booster': 'gbtree',\n",
    "        'learning_rate': 0.01,\n",
    "        'max_depth': 5,\n",
    "        'subsample': 0.7,\n",
    "        'colsample_bytree': 0.5,\n",
    "        'objective': 'reg:linear',\n",
    "        'n_estimators': 10000,\n",
    "        'min_child_weight': 35,\n",
    "        'gamma': 0,\n",
    "        'silent': True,\n",
    "        'n_jobs': 4,\n",
    "        'random_state': 89,\n",
    "        'reg_alpha': 5,\n",
    "        'reg_lambda': 5,\n",
    "        'alpha': 1,\n",
    "        'verbose': 1\n",
    "    }\n",
    "    train_y = train['信用分']\n",
    "    train_x = train.drop(['信用分', '用户编码'], axis=1)\n",
    "    \n",
    "    test_x = test.drop(['信用分', '用户编码'], axis=1)\n",
    "    model = xgb.XGBRegressor(**xgb_params)\n",
    "    kfold = KFold(n_splits=n_folds, shuffle=True, random_state=89)\n",
    "    kf = kfold.split(train_x, train_y)\n",
    "    valid_best_l2_all = 0\n",
    "    test_name = test[['用户编码']]\n",
    "    cv_pred = np.zeros(test.shape[0])\n",
    "    oof = np.zeros(train.shape[0])\n",
    "    count = 0\n",
    "    global feature_importance_df\n",
    "    for i, (train_fold, validate) in enumerate(kf):\n",
    "        print('fold: ',i, ' training')\n",
    "        # 切分数据\n",
    "        X_train, X_test, y_train, y_test = train_x.iloc[train_fold, :], train_x.iloc[validate, :], train_y[train_fold], train_y[validate]\n",
    "\n",
    "\n",
    "        bst = model.fit(X_train, y_train, eval_set=[(X_train, y_train), (X_test, y_test)],\n",
    "                          early_stopping_rounds=200, verbose=False)\n",
    "        iteration_kwargs = {'ntree_limit': bst.best_ntree_limit}\n",
    "        cv_pred += bst.predict(test_x, **iteration_kwargs)\n",
    "        oof[validate] = bst.predict(X_test, **iteration_kwargs)\n",
    "       \n",
    "    mae = mean_absolute_error(train_y, oof)\n",
    "    print(\"mae:\", 1/(1+mae))\n",
    "    cv_pred /= n_folds\n",
    "    result = test_name.copy()\n",
    "#     result.columns = ['id']\n",
    "#     result['score'] = cv_pred\n",
    "#     result['score'] = result['score'].map(round)\n",
    "#     result.to_csv('../result/result_mse.csv', index=None)\n",
    "    return cv_pred\n",
    "  "
   ]
  },
  {
   "cell_type": "code",
   "execution_count": 18,
   "metadata": {
    "ExecuteTime": {
     "end_time": "2019-03-20T02:00:12.340475Z",
     "start_time": "2019-03-20T01:58:32.504982Z"
    },
    "scrolled": false
   },
   "outputs": [
    {
     "name": "stdout",
     "output_type": "stream",
     "text": [
      "fold:  0  training\n",
      "fold:  1  training\n",
      "fold:  2  training\n",
      "fold:  3  training\n",
      "fold:  4  training\n",
      "fold:  5  training\n",
      "fold:  6  training\n",
      "fold:  7  training\n",
      "fold:  8  training\n",
      "fold:  9  training\n",
      "mae: 0.06395915513388252\n"
     ]
    }
   ],
   "source": [
    "result = evaluation(data)"
   ]
  },
  {
   "cell_type": "code",
   "execution_count": 35,
   "metadata": {},
   "outputs": [],
   "source": [
    "result = result / 2.0"
   ]
  },
  {
   "cell_type": "code",
   "execution_count": 39,
   "metadata": {},
   "outputs": [],
   "source": [
    "sub = test[['用户编码']]"
   ]
  },
  {
   "cell_type": "code",
   "execution_count": 40,
   "metadata": {},
   "outputs": [],
   "source": [
    "sub.columns = ['id']\n",
    "sub['score'] = result\n",
    "# sub['score'] = sub['score'].map(round)"
   ]
  },
  {
   "cell_type": "code",
   "execution_count": 41,
   "metadata": {},
   "outputs": [],
   "source": [
    "sub.to_csv('../result/result_xgb63798.csv',index=None)"
   ]
  },
  {
   "cell_type": "code",
   "execution_count": null,
   "metadata": {},
   "outputs": [],
   "source": []
  }
 ],
 "metadata": {
  "kernelspec": {
   "display_name": "Python 3",
   "language": "python",
   "name": "python3"
  },
  "language_info": {
   "codemirror_mode": {
    "name": "ipython",
    "version": 3
   },
   "file_extension": ".py",
   "mimetype": "text/x-python",
   "name": "python",
   "nbconvert_exporter": "python",
   "pygments_lexer": "ipython3",
   "version": "3.6.6"
  },
  "latex_envs": {
   "LaTeX_envs_menu_present": true,
   "autoclose": false,
   "autocomplete": true,
   "bibliofile": "biblio.bib",
   "cite_by": "apalike",
   "current_citInitial": 1,
   "eqLabelWithNumbers": true,
   "eqNumInitial": 1,
   "hotkeys": {
    "equation": "Ctrl-E",
    "itemize": "Ctrl-I"
   },
   "labels_anchors": false,
   "latex_user_defs": false,
   "report_style_numbering": false,
   "user_envs_cfg": false
  }
 },
 "nbformat": 4,
 "nbformat_minor": 2
}
