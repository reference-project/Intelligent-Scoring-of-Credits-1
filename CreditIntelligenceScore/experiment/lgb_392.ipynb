{
 "cells": [
  {
   "cell_type": "code",
   "execution_count": 1,
   "metadata": {
    "ExecuteTime": {
     "end_time": "2019-03-20T07:31:17.851254Z",
     "start_time": "2019-03-20T07:31:13.672818Z"
    }
   },
   "outputs": [],
   "source": [
    "%matplotlib inline\n",
    "\n",
    "from datetime import datetime\n",
    "\n",
    "from scipy import stats\n",
    "from scipy.special import boxcox1p\n",
    "from scipy.stats import skew\n",
    "import numpy as np\n",
    "import pandas as pd\n",
    "import matplotlib.pyplot as plt\n",
    "import seaborn as sns\n",
    "import lightgbm as lgb\n",
    "import xgboost as xgb\n",
    "from sklearn.ensemble import RandomForestRegressor, GradientBoostingRegressor, RandomForestClassifier\n",
    "from sklearn.svm import SVC\n",
    "from sklearn.model_selection import GridSearchCV\n",
    "from sklearn.model_selection import train_test_split\n",
    "from sklearn.model_selection import StratifiedKFold, KFold\n",
    "from sklearn.metrics import mean_absolute_error\n",
    "from sklearn.model_selection import cross_val_score\n",
    "from scipy.special import inv_boxcox1p\n",
    "from mlxtend.regressor import StackingRegressor\n",
    "from sklearn.preprocessing import scale\n",
    "from sklearn.base import BaseEstimator, TransformerMixin, RegressorMixin, clone\n",
    "from sklearn.preprocessing import RobustScaler\n",
    "from sklearn.linear_model import ElasticNet, Lasso,  BayesianRidge, LassoLarsIC\n",
    "from mlxtend.regressor import StackingRegressor\n",
    "from sklearn.pipeline import make_pipeline\n",
    "from sklearn.preprocessing import StandardScaler\n",
    "from xgboost import XGBRegressor\n",
    "from sklearn.feature_selection import SelectPercentile, f_classif\n",
    "from scipy.stats import zscore\n",
    "\n",
    "\n",
    "import warnings\n",
    "warnings.filterwarnings('ignore')\n",
    "\n",
    "\n",
    "# 用于正常显示中文\n",
    "plt.rcParams['font.sans-serif'] = ['SimHei']\n",
    "# 用来正常显示负号\n",
    "plt.rcParams['axes.unicode_minus'] = False\n",
    "# 设置图片清晰度\n",
    "%config InlineBackend.figure_format = 'retina'  "
   ]
  },
  {
   "cell_type": "code",
   "execution_count": 2,
   "metadata": {
    "ExecuteTime": {
     "end_time": "2019-03-20T07:31:18.319642Z",
     "start_time": "2019-03-20T07:31:17.852251Z"
    }
   },
   "outputs": [],
   "source": [
    "train = pd.read_csv('../original_data/train_dataset.csv')\n",
    "test = pd.read_csv('../original_data/test_dataset.csv')"
   ]
  },
  {
   "cell_type": "code",
   "execution_count": 3,
   "metadata": {
    "ExecuteTime": {
     "end_time": "2019-03-20T07:31:18.424581Z",
     "start_time": "2019-03-20T07:31:18.324639Z"
    }
   },
   "outputs": [],
   "source": [
    "data = pd.concat([train, test]).reset_index(drop=True)"
   ]
  },
  {
   "cell_type": "markdown",
   "metadata": {
    "ExecuteTime": {
     "end_time": "2019-02-22T15:00:17.438951Z",
     "start_time": "2019-02-22T15:00:17.435955Z"
    }
   },
   "source": [
    "### 对网龄进行年份化"
   ]
  },
  {
   "cell_type": "code",
   "execution_count": 4,
   "metadata": {
    "ExecuteTime": {
     "end_time": "2019-03-20T07:31:18.507533Z",
     "start_time": "2019-03-20T07:31:18.430579Z"
    }
   },
   "outputs": [],
   "source": [
    "def conversion_month_year(month):\n",
    "    try:\n",
    "        return month / 12.0\n",
    "    except Exception:\n",
    "        return 0.0\n",
    "    \n",
    "    \n",
    "data['用户网龄（年）'] = data['用户网龄（月）'].map(conversion_month_year)\n",
    "data.drop(['用户网龄（月）'], axis=1, inplace=True)"
   ]
  },
  {
   "cell_type": "markdown",
   "metadata": {},
   "source": [
    "### 对缴费方式进行提取"
   ]
  },
  {
   "cell_type": "code",
   "execution_count": 5,
   "metadata": {
    "ExecuteTime": {
     "end_time": "2019-03-20T07:31:18.614472Z",
     "start_time": "2019-03-20T07:31:18.510531Z"
    }
   },
   "outputs": [],
   "source": [
    "data['充值方式'] = 0\n",
    "data['充值方式'][(data['缴费用户最近一次缴费金额（元）'] % 10 == 0) & \n",
    "             data['缴费用户最近一次缴费金额（元）'] != 0] = 1"
   ]
  },
  {
   "cell_type": "markdown",
   "metadata": {},
   "source": [
    "### 对数据进行惩罚修改\n",
    "1. 网龄 > 年龄 或者 年龄 为0\n",
    "2. 经常逛商场的人的逛商场的次数 < 不经常逛商场的人的次数"
   ]
  },
  {
   "cell_type": "code",
   "execution_count": 6,
   "metadata": {
    "ExecuteTime": {
     "end_time": "2019-03-20T07:31:22.007392Z",
     "start_time": "2019-03-20T07:31:18.615470Z"
    }
   },
   "outputs": [],
   "source": [
    "def compare_age_by_network_age(row):\n",
    "    if row['用户网龄（年）'] >= row['用户年龄']:\n",
    "        return 0.0\n",
    "    else:\n",
    "        return row['用户年龄']\n",
    "    \n",
    "\n",
    "data['用户年龄'] = data.apply(compare_age_by_network_age, axis=1)"
   ]
  },
  {
   "cell_type": "code",
   "execution_count": 7,
   "metadata": {
    "ExecuteTime": {
     "end_time": "2019-03-20T07:31:22.081332Z",
     "start_time": "2019-03-20T07:31:22.009375Z"
    }
   },
   "outputs": [],
   "source": [
    "data.loc[data[(data['是否经常逛商场的人'] == 1) & (\n",
    "        data['近三个月月均商场出现次数'] < data[(data['是否经常逛商场的人'] == 1)][\n",
    "    '近三个月月均商场出现次数'].quantile(0.15))].index, \"是否经常逛商场的人\"] = 0\n",
    "data.loc[data[(data['是否经常逛商场的人'] == 0) & (\n",
    "        data['近三个月月均商场出现次数'] > data[(data['是否经常逛商场的人'] == 1)][\n",
    "    '近三个月月均商场出现次数'].quantile(0.85))].index, \"是否经常逛商场的人\"] = 1"
   ]
  },
  {
   "cell_type": "markdown",
   "metadata": {},
   "source": [
    "### 特征交叉"
   ]
  },
  {
   "cell_type": "code",
   "execution_count": 8,
   "metadata": {
    "ExecuteTime": {
     "end_time": "2019-03-20T07:31:22.104320Z",
     "start_time": "2019-03-20T07:31:22.083332Z"
    }
   },
   "outputs": [],
   "source": [
    "data['最近账单稳定性'] = data['用户账单当月总费用（元）'] / (data['用户近6个月平均消费值（元）'] + 0.001)\n",
    "data['用户近5个月平均消费值（元）'] = (data['用户近6个月平均消费值（元）']*6-data['用户账单当月总费用（元）'])/5"
   ]
  },
  {
   "cell_type": "code",
   "execution_count": 9,
   "metadata": {
    "ExecuteTime": {
     "end_time": "2019-03-20T07:31:27.953309Z",
     "start_time": "2019-03-20T07:31:22.109319Z"
    }
   },
   "outputs": [],
   "source": [
    "def location(row):\n",
    "    if row['当月是否到过福州山姆会员店'] == 1 and row['当月是否逛过福州仓山万达'] == 1 and row['是否经常逛商场的人'] == 1:\n",
    "        return 3\n",
    "    elif (row['当月是否到过福州山姆会员店'] == 1 or row['当月是否逛过福州仓山万达'] == 1) and row['是否经常逛商场的人'] == 1:\n",
    "        return 2\n",
    "    elif (row['当月是否到过福州山姆会员店'] == 0 and row['当月是否逛过福州仓山万达'] == 0) and row['是否经常逛商场的人'] == 1:\n",
    "        return 1\n",
    "    else:\n",
    "        return 0\n",
    "data['位置轨迹'] = data.apply(location, axis=1)\n",
    "data.drop(['当月是否到过福州山姆会员店', '当月是否逛过福州仓山万达'], axis=1, inplace=True)"
   ]
  },
  {
   "cell_type": "code",
   "execution_count": 10,
   "metadata": {
    "ExecuteTime": {
     "end_time": "2019-03-20T07:31:27.968316Z",
     "start_time": "2019-03-20T07:31:27.955309Z"
    }
   },
   "outputs": [],
   "source": [
    "data['物流/网购'] = data['当月物流快递类应用使用次数'] / (data['当月网购类应用使用次数']+1)\n",
    "data['交通类应用使用次数'] = (data['当月飞机类应用使用次数']+data['当月火车类应用使用次数'])\n",
    "data['交通次数/旅游次数'] =  data['交通类应用使用次数'] / (data['当月旅游资讯类应用使用次数']+1)"
   ]
  },
  {
   "cell_type": "code",
   "execution_count": 11,
   "metadata": {
    "ExecuteTime": {
     "end_time": "2019-03-20T07:31:28.043259Z",
     "start_time": "2019-03-20T07:31:27.971301Z"
    }
   },
   "outputs": [],
   "source": [
    "data.drop(['是否大学生客户', '用户实名制是否通过核实', '当月飞机类应用使用次数', \n",
    "           '当月火车类应用使用次数', '用户最近一次缴费距今时长（月）'], axis=1, inplace=True)"
   ]
  },
  {
   "cell_type": "markdown",
   "metadata": {},
   "source": [
    "### 数据截断"
   ]
  },
  {
   "cell_type": "code",
   "execution_count": 12,
   "metadata": {
    "ExecuteTime": {
     "end_time": "2019-03-20T07:31:28.201689Z",
     "start_time": "2019-03-20T07:31:28.046257Z"
    }
   },
   "outputs": [],
   "source": [
    "columns = ['当月网购类应用使用次数','当月金融理财类应用使用总次数','当月视频播放类应用使用次数',\n",
    "           '用户当月账户余额（元）', ]\n",
    "\n",
    "for col in columns:\n",
    "    up = np.percentile(data[col].values, 99.99)\n",
    "    down = np.percentile(data[col].values,0.01)\n",
    "    data.loc[data[col]>up, col] = up\n",
    "    data.loc[data[col]<down, col] = down"
   ]
  },
  {
   "cell_type": "markdown",
   "metadata": {},
   "source": [
    "### 模型训练"
   ]
  },
  {
   "cell_type": "code",
   "execution_count": 13,
   "metadata": {
    "ExecuteTime": {
     "end_time": "2019-03-20T07:31:28.209683Z",
     "start_time": "2019-03-20T07:31:28.204685Z"
    }
   },
   "outputs": [],
   "source": [
    "feature_importance_df = pd.DataFrame()"
   ]
  },
  {
   "cell_type": "code",
   "execution_count": 14,
   "metadata": {
    "ExecuteTime": {
     "end_time": "2019-03-20T07:31:28.240665Z",
     "start_time": "2019-03-20T07:31:28.211682Z"
    }
   },
   "outputs": [
    {
     "data": {
      "text/plain": [
       "Index(['信用分', '当月旅游资讯类应用使用次数', '当月是否体育场馆消费', '当月是否景点游览', '当月是否看电影',\n",
       "       '当月物流快递类应用使用次数', '当月网购类应用使用次数', '当月视频播放类应用使用次数', '当月通话交往圈人数',\n",
       "       '当月金融理财类应用使用总次数', '是否4G不健康客户', '是否经常逛商场的人', '是否黑名单客户', '用户年龄',\n",
       "       '用户当月账户余额（元）', '用户编码', '用户话费敏感度', '用户账单当月总费用（元）', '用户近6个月平均消费值（元）',\n",
       "       '缴费用户当前是否欠费缴费', '缴费用户最近一次缴费金额（元）', '近三个月月均商场出现次数', '用户网龄（年）', '充值方式',\n",
       "       '最近账单稳定性', '用户近5个月平均消费值（元）', '位置轨迹', '物流/网购', '交通类应用使用次数', '交通次数/旅游次数'],\n",
       "      dtype='object')"
      ]
     },
     "execution_count": 14,
     "metadata": {},
     "output_type": "execute_result"
    }
   ],
   "source": [
    "data.columns"
   ]
  },
  {
   "cell_type": "code",
   "execution_count": 15,
   "metadata": {
    "ExecuteTime": {
     "end_time": "2019-03-20T07:31:28.269652Z",
     "start_time": "2019-03-20T07:31:28.242663Z"
    }
   },
   "outputs": [],
   "source": [
    "def evaluation(data):\n",
    "    n_folds = 10\n",
    "    train = data[:50000]\n",
    "    test = data[50000:]\n",
    "    lgb_mae = {\n",
    "        'learning_rate': 0.01,\n",
    "        'boosting_type': 'gbdt',\n",
    "        'objective': 'regression_l1',\n",
    "        'metric': 'mae',\n",
    "        'feature_fraction': 0.6,\n",
    "        'bagging_fraction': 0.8,\n",
    "        'bagging_freq': 2,\n",
    "        'num_leaves': 28,\n",
    "        'verbose': -1,\n",
    "        'max_depth': 5,\n",
    "        'lambda_l2': 10,\n",
    "        'lambda_l1': 4,\n",
    "        'min_data_in_leaf': 35,\n",
    "        'nthread': 4,\n",
    "    }\n",
    "    lgb_mse = {\n",
    "        'learning_rate': 0.01,\n",
    "        'boosting_type': 'gbdt',\n",
    "        'objective': 'regression_l2',\n",
    "        'metric': 'mae',\n",
    "        'feature_fraction': 0.6,\n",
    "        'bagging_fraction': 0.7,\n",
    "        'bagging_freq': 1,\n",
    "        'num_leaves': 43,  # 45\n",
    "        'verbose': -1,\n",
    "        'max_depth': 6,\n",
    "        'lambda_l2': 5,\n",
    "        'lambda_l1': 2,\n",
    "        'min_data_in_leaf': 30,\n",
    "        'nthread': 4,\n",
    "    }\n",
    "\n",
    "    train_y = train['信用分']\n",
    "    train_x = train.drop(['信用分', '用户编码'], axis=1)\n",
    "    test_x = test.drop(['信用分', '用户编码'], axis=1)\n",
    "    kfold = StratifiedKFold(n_splits=n_folds, shuffle=True, random_state=260)\n",
    "    kf = kfold.split(train_x, train_y)\n",
    "    valid_best_l2_all = 0\n",
    "    test_name = test[['用户编码']]\n",
    "    cv_pred = np.zeros(test.shape[0])\n",
    "    count = 0\n",
    "\n",
    "    global feature_importance_df\n",
    "    for i, (train_fold, validate) in enumerate(kf):\n",
    "        print('fold: ',i, ' training')\n",
    "        # 切分数据\n",
    "        X_train, X_test, y_train, y_test = train_x.iloc[train_fold, :], train_x.iloc[validate, :], train_y[train_fold], train_y[validate]\n",
    "\n",
    "        # 载入数据集\n",
    "        dtrain = lgb.Dataset(X_train, y_train)\n",
    "        dvalid = lgb.Dataset(X_test, y_test, reference=dtrain)\n",
    "\n",
    "        bst = lgb.train(lgb_mae, dtrain, num_boost_round=100000, valid_sets=dvalid, \n",
    "                        verbose_eval=-1, early_stopping_rounds=100)\n",
    "        # 训练\n",
    "        y_pred = bst.predict(X_test, num_iteration=bst.best_iteration)\n",
    "        cv_pred += bst.predict(test_x, num_iteration=bst.best_iteration)\n",
    "        valid_best_l2_all += bst.best_score['valid_0']['l1']\n",
    "        \n",
    "        fold_importance_df = pd.DataFrame()\n",
    "        fold_importance_df[\"feature\"] = list(X_train.columns)\n",
    "        fold_importance_df[\"importance\"] = bst.feature_importance(importance_type='gain', iteration=bst.best_iteration)\n",
    "        fold_importance_df[\"fold\"] = count + 1\n",
    "        feature_importance_df = pd.concat([feature_importance_df, fold_importance_df], axis=0)\n",
    "        count += 1\n",
    "    valid_best_l2_all /= n_folds\n",
    "    cv_pred /= n_folds\n",
    "    result = test_name.copy()\n",
    "    result.columns = ['id']\n",
    "    result['score'] = cv_pred\n",
    "#     result['score'] = result['score'].map(round)\n",
    "    result.to_csv('../result/result_mae3921.csv', index=None)\n",
    "    print('cv score for valid is: ', 1/(1+valid_best_l2_all))\n",
    "    # 0.06392 mae\n",
    "    # 0.06379 mse\n",
    "    # cv score for valid is:  0.06387872168108387"
   ]
  },
  {
   "cell_type": "code",
   "execution_count": 16,
   "metadata": {
    "ExecuteTime": {
     "end_time": "2019-03-20T07:37:07.438526Z",
     "start_time": "2019-03-20T07:31:28.274647Z"
    },
    "scrolled": false
   },
   "outputs": [
    {
     "name": "stdout",
     "output_type": "stream",
     "text": [
      "fold:  0  training\n",
      "Training until validation scores don't improve for 100 rounds.\n",
      "Early stopping, best iteration is:\n",
      "[2982]\tvalid_0's l1: 15.2453\n",
      "fold:  1  training\n",
      "Training until validation scores don't improve for 100 rounds.\n",
      "Early stopping, best iteration is:\n",
      "[3592]\tvalid_0's l1: 14.822\n",
      "fold:  2  training\n",
      "Training until validation scores don't improve for 100 rounds.\n",
      "Early stopping, best iteration is:\n",
      "[3361]\tvalid_0's l1: 14.5354\n",
      "fold:  3  training\n",
      "Training until validation scores don't improve for 100 rounds.\n",
      "Early stopping, best iteration is:\n",
      "[2918]\tvalid_0's l1: 14.4445\n",
      "fold:  4  training\n",
      "Training until validation scores don't improve for 100 rounds.\n",
      "Early stopping, best iteration is:\n",
      "[4082]\tvalid_0's l1: 14.6014\n",
      "fold:  5  training\n",
      "Training until validation scores don't improve for 100 rounds.\n",
      "Early stopping, best iteration is:\n",
      "[3651]\tvalid_0's l1: 14.773\n",
      "fold:  6  training\n",
      "Training until validation scores don't improve for 100 rounds.\n",
      "Early stopping, best iteration is:\n",
      "[2952]\tvalid_0's l1: 14.6325\n",
      "fold:  7  training\n",
      "Training until validation scores don't improve for 100 rounds.\n",
      "Early stopping, best iteration is:\n",
      "[3327]\tvalid_0's l1: 14.6752\n",
      "fold:  8  training\n",
      "Training until validation scores don't improve for 100 rounds.\n",
      "Early stopping, best iteration is:\n",
      "[2925]\tvalid_0's l1: 14.2662\n",
      "fold:  9  training\n",
      "Training until validation scores don't improve for 100 rounds.\n",
      "Early stopping, best iteration is:\n",
      "[2213]\tvalid_0's l1: 14.1767\n",
      "cv score for valid is:  0.06403189137784905\n"
     ]
    }
   ],
   "source": [
    "evaluation(data)"
   ]
  },
  {
   "cell_type": "code",
   "execution_count": null,
   "metadata": {},
   "outputs": [],
   "source": []
  }
 ],
 "metadata": {
  "kernelspec": {
   "display_name": "Python 3",
   "language": "python",
   "name": "python3"
  },
  "language_info": {
   "codemirror_mode": {
    "name": "ipython",
    "version": 3
   },
   "file_extension": ".py",
   "mimetype": "text/x-python",
   "name": "python",
   "nbconvert_exporter": "python",
   "pygments_lexer": "ipython3",
   "version": "3.6.6"
  },
  "latex_envs": {
   "LaTeX_envs_menu_present": true,
   "autoclose": false,
   "autocomplete": true,
   "bibliofile": "biblio.bib",
   "cite_by": "apalike",
   "current_citInitial": 1,
   "eqLabelWithNumbers": true,
   "eqNumInitial": 1,
   "hotkeys": {
    "equation": "Ctrl-E",
    "itemize": "Ctrl-I"
   },
   "labels_anchors": false,
   "latex_user_defs": false,
   "report_style_numbering": false,
   "user_envs_cfg": false
  }
 },
 "nbformat": 4,
 "nbformat_minor": 2
}
