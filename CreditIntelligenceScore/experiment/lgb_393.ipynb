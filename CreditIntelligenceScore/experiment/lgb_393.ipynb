{
 "cells": [
  {
   "cell_type": "code",
   "execution_count": 1,
   "metadata": {
    "ExecuteTime": {
     "end_time": "2019-03-20T07:02:24.979116Z",
     "start_time": "2019-03-20T07:02:20.922886Z"
    }
   },
   "outputs": [],
   "source": [
    "%matplotlib inline\n",
    "\n",
    "from datetime import datetime\n",
    "\n",
    "from scipy import stats\n",
    "from scipy.special import boxcox1p\n",
    "from scipy.stats import skew\n",
    "import numpy as np\n",
    "import pandas as pd\n",
    "import matplotlib.pyplot as plt\n",
    "import seaborn as sns\n",
    "import lightgbm as lgb\n",
    "import xgboost as xgb\n",
    "from sklearn.model_selection import KFold\n",
    "from sklearn.metrics import mean_absolute_error\n",
    "from sklearn.model_selection import cross_val_score\n",
    "from mlxtend.regressor import StackingRegressor\n",
    "from sklearn.preprocessing import scale\n",
    "from sklearn.base import BaseEstimator, TransformerMixin, RegressorMixin, clone\n",
    "from sklearn.preprocessing import RobustScaler\n",
    "from sklearn.linear_model import ElasticNet, Lasso,  BayesianRidge, LassoLarsIC\n",
    "from mlxtend.regressor import StackingRegressor\n",
    "from sklearn.pipeline import make_pipeline\n",
    "from sklearn.preprocessing import StandardScaler\n",
    "from sklearn.feature_selection import SelectPercentile, f_classif\n",
    "from scipy.stats import zscore\n",
    "\n",
    "\n",
    "import warnings\n",
    "warnings.filterwarnings('ignore')\n",
    "\n",
    "\n",
    "# 用于正常显示中文\n",
    "plt.rcParams['font.sans-serif'] = ['SimHei']\n",
    "# 用来正常显示负号\n",
    "plt.rcParams['axes.unicode_minus'] = False\n",
    "# 设置图片清晰度\n",
    "%config InlineBackend.figure_format = 'retina'  "
   ]
  },
  {
   "cell_type": "code",
   "execution_count": 2,
   "metadata": {
    "ExecuteTime": {
     "end_time": "2019-03-20T07:02:25.442811Z",
     "start_time": "2019-03-20T07:02:24.981076Z"
    }
   },
   "outputs": [],
   "source": [
    "train = pd.read_csv('../original_data/train_dataset.csv')\n",
    "test = pd.read_csv('../original_data/test_dataset.csv')"
   ]
  },
  {
   "cell_type": "code",
   "execution_count": 3,
   "metadata": {
    "ExecuteTime": {
     "end_time": "2019-03-20T07:02:25.539764Z",
     "start_time": "2019-03-20T07:02:25.445810Z"
    }
   },
   "outputs": [],
   "source": [
    "data = pd.concat([train, test]).reset_index(drop=True)"
   ]
  },
  {
   "cell_type": "markdown",
   "metadata": {
    "ExecuteTime": {
     "end_time": "2019-03-18T11:31:49.161944Z",
     "start_time": "2019-03-18T11:31:49.156947Z"
    }
   },
   "source": [
    "### 对数据进行截断"
   ]
  },
  {
   "cell_type": "code",
   "execution_count": 4,
   "metadata": {
    "ExecuteTime": {
     "end_time": "2019-03-20T07:02:25.672689Z",
     "start_time": "2019-03-20T07:02:25.542764Z"
    }
   },
   "outputs": [],
   "source": [
    "columns = ['当月视频播放类应用使用次数', '用户当月账户余额（元）', '当月物流快递类应用使用次数', '当月飞机类应用使用次数']\n",
    "for col in columns:\n",
    "    up = np.percentile(data[col].values, 99.99)\n",
    "    down = np.percentile(data[col].values,0.01)\n",
    "    data.loc[data[col]>up, col] = up\n",
    "    data.loc[data[col]<down, col] = down"
   ]
  },
  {
   "cell_type": "markdown",
   "metadata": {
    "ExecuteTime": {
     "end_time": "2019-02-22T15:00:17.438951Z",
     "start_time": "2019-02-22T15:00:17.435955Z"
    }
   },
   "source": [
    "### 对网龄进行年份化"
   ]
  },
  {
   "cell_type": "code",
   "execution_count": 5,
   "metadata": {
    "ExecuteTime": {
     "end_time": "2019-03-20T07:02:25.729655Z",
     "start_time": "2019-03-20T07:02:25.674687Z"
    }
   },
   "outputs": [],
   "source": [
    "data['用户网龄（年）'] = data['用户网龄（月）'] / 12.0\n",
    "data.drop(['用户网龄（月）'], axis=1, inplace=True)"
   ]
  },
  {
   "cell_type": "markdown",
   "metadata": {},
   "source": [
    "### 对缴费方式进行提取"
   ]
  },
  {
   "cell_type": "code",
   "execution_count": 6,
   "metadata": {
    "ExecuteTime": {
     "end_time": "2019-03-20T07:02:25.794620Z",
     "start_time": "2019-03-20T07:02:25.730654Z"
    }
   },
   "outputs": [],
   "source": [
    "def extract_way(s):\n",
    "    if s == 0:\n",
    "        return -1\n",
    "    elif s % 10 == 0:\n",
    "        return 1\n",
    "    else:\n",
    "        return 0\n",
    "\n",
    "data['充值方式'] = data['缴费用户最近一次缴费金额（元）'].map(extract_way)"
   ]
  },
  {
   "cell_type": "markdown",
   "metadata": {},
   "source": [
    "### 对数据进行惩罚修改\n",
    "1. 网龄 > 年龄\n",
    "2. 经常逛商场的人的逛商场的次数 < 不经常逛商场的人的次数"
   ]
  },
  {
   "cell_type": "code",
   "execution_count": 7,
   "metadata": {
    "ExecuteTime": {
     "end_time": "2019-03-20T07:02:29.597218Z",
     "start_time": "2019-03-20T07:02:25.796616Z"
    }
   },
   "outputs": [],
   "source": [
    "def compare_age_by_network_age(row):\n",
    "    if row['用户网龄（年）'] >= row['用户年龄']:\n",
    "        return 0.0\n",
    "    else:\n",
    "        return row['用户年龄']\n",
    "    \n",
    "\n",
    "data['用户年龄'] = data.apply(compare_age_by_network_age, axis=1)"
   ]
  },
  {
   "cell_type": "code",
   "execution_count": 8,
   "metadata": {
    "ExecuteTime": {
     "end_time": "2019-03-20T07:02:29.684170Z",
     "start_time": "2019-03-20T07:02:29.600218Z"
    }
   },
   "outputs": [],
   "source": [
    "data.loc[data[(data['是否经常逛商场的人'] == 1) & (\n",
    "        data['近三个月月均商场出现次数'] < data[(data['是否经常逛商场的人'] == 1)][\n",
    "    '近三个月月均商场出现次数'].quantile(0.15))].index, \"是否经常逛商场的人\"] = 0\n",
    "data.loc[data[(data['是否经常逛商场的人'] == 0) & (\n",
    "        data['近三个月月均商场出现次数'] > data[(data['是否经常逛商场的人'] == 1)][\n",
    "    '近三个月月均商场出现次数'].quantile(0.85))].index, \"是否经常逛商场的人\"] = 1"
   ]
  },
  {
   "cell_type": "markdown",
   "metadata": {},
   "source": [
    "### 特征交叉"
   ]
  },
  {
   "cell_type": "code",
   "execution_count": 9,
   "metadata": {
    "ExecuteTime": {
     "end_time": "2019-03-20T07:02:29.696163Z",
     "start_time": "2019-03-20T07:02:29.686168Z"
    }
   },
   "outputs": [],
   "source": [
    "data['当月账单超过平均消费'] = data['用户账单当月总费用（元）'] - data['用户近6个月平均消费值（元）']\n",
    "data['用户近5个月平均消费值（元）'] = data['用户近6个月平均消费值（元）']*6-data['用户账单当月总费用（元）']"
   ]
  },
  {
   "cell_type": "code",
   "execution_count": 10,
   "metadata": {
    "ExecuteTime": {
     "end_time": "2019-03-20T07:02:29.729142Z",
     "start_time": "2019-03-20T07:02:29.699161Z"
    }
   },
   "outputs": [],
   "source": [
    "data['交通APP'] = data['当月飞机类应用使用次数'] + data['当月火车类应用使用次数']     "
   ]
  },
  {
   "cell_type": "markdown",
   "metadata": {},
   "source": [
    "### 丢弃列"
   ]
  },
  {
   "cell_type": "code",
   "execution_count": 11,
   "metadata": {
    "ExecuteTime": {
     "end_time": "2019-03-20T07:02:29.791107Z",
     "start_time": "2019-03-20T07:02:29.731143Z"
    }
   },
   "outputs": [],
   "source": [
    "data.drop(['是否大学生客户', '用户实名制是否通过核实', '用户最近一次缴费距今时长（月）', \n",
    "           '当月是否到过福州山姆会员店', '当月是否逛过福州仓山万达', '当月火车类应用使用次数',\n",
    "           '当月飞机类应用使用次数'], axis=1, inplace=True)"
   ]
  },
  {
   "cell_type": "code",
   "execution_count": 12,
   "metadata": {
    "ExecuteTime": {
     "end_time": "2019-03-20T07:02:30.850861Z",
     "start_time": "2019-03-20T07:02:29.793105Z"
    }
   },
   "outputs": [],
   "source": [
    "log_feats = ['当月通话交往圈人数', '当月金融理财类应用使用总次数', '当月视频播放类应用使用次数', '交通APP'] \n",
    "for col in log_feats:\n",
    "    data[col] = data[col].map(lambda x: np.log1p(x))"
   ]
  },
  {
   "cell_type": "markdown",
   "metadata": {},
   "source": [
    "### 模型训练"
   ]
  },
  {
   "cell_type": "code",
   "execution_count": 13,
   "metadata": {
    "ExecuteTime": {
     "end_time": "2019-03-20T07:02:30.857859Z",
     "start_time": "2019-03-20T07:02:30.852862Z"
    }
   },
   "outputs": [],
   "source": [
    "feature_importance_df = pd.DataFrame()"
   ]
  },
  {
   "cell_type": "code",
   "execution_count": 17,
   "metadata": {
    "ExecuteTime": {
     "end_time": "2019-03-20T07:07:13.263145Z",
     "start_time": "2019-03-20T07:07:13.244159Z"
    }
   },
   "outputs": [],
   "source": [
    "def evaluation(data):\n",
    "    n_folds = 10\n",
    "    train = data[:50000]\n",
    "    test = data[50000:]\n",
    "    lgb_mae = {\n",
    "        'learning_rate': 0.01,\n",
    "        'boosting_type': 'gbdt',\n",
    "        'objective': 'regression_l1',\n",
    "        'metric': 'mae',\n",
    "        'feature_fraction': 0.5,\n",
    "        'bagging_fraction': 0.6,\n",
    "        'bagging_freq': 1,\n",
    "        'num_leaves': 30,\n",
    "        'verbose': -1,\n",
    "        'max_depth': 6,\n",
    "        'lambda_l2': 5,\n",
    "        'lambda_l1': 2,\n",
    "        'min_data_in_leaf': 28,\n",
    "        'nthread': 4,\n",
    "    }\n",
    "    lgb_mse = {\n",
    "        'learning_rate': 0.01,\n",
    "        'boosting_type': 'gbdt',\n",
    "        'objective': 'regression_l2',\n",
    "        'metric': 'mae',\n",
    "        'feature_fraction': 0.5,\n",
    "        'bagging_fraction': 0.7,\n",
    "        'bagging_freq': 1,\n",
    "        'num_leaves': 38,   # 40\n",
    "        'verbose': -1,\n",
    "        'max_depth': 6,\n",
    "        'lambda_l2': 5,\n",
    "        'lambda_l1': 2,\n",
    "        'min_data_in_leaf': 30,\n",
    "        'nthread': 4,\n",
    "    }\n",
    "    train_y = train['信用分']\n",
    "    train_x = train.drop(['信用分', '用户编码'], axis=1)\n",
    "    \n",
    "    test_x = test.drop(['信用分', '用户编码'], axis=1)\n",
    "    kfold = KFold(n_splits=n_folds, shuffle=True, random_state=89)\n",
    "    kf = kfold.split(train_x, train_y)\n",
    "    valid_best_l2_all = 0\n",
    "    test_name = test[['用户编码']]\n",
    "    cv_pred = np.zeros(test.shape[0])\n",
    "    count = 0\n",
    "    global feature_importance_df\n",
    "    for i, (train_fold, validate) in enumerate(kf):\n",
    "        print('fold: ',i, ' training')\n",
    "        # 切分数据\n",
    "        X_train, X_test, y_train, y_test = train_x.iloc[train_fold, :], train_x.iloc[validate, :], train_y[train_fold], train_y[validate]\n",
    "\n",
    "        # 载入数据集\n",
    "        dtrain = lgb.Dataset(X_train, y_train)\n",
    "        dvalid = lgb.Dataset(X_test, y_test, reference=dtrain)\n",
    "\n",
    "        bst = lgb.train(lgb_mae, dtrain, num_boost_round=100000, valid_sets=dvalid, \n",
    "                        verbose_eval=-1, early_stopping_rounds=100)\n",
    "\n",
    "        cv_pred += bst.predict(test_x, num_iteration=bst.best_iteration)\n",
    "        valid_best_l2_all += bst.best_score['valid_0']['l1']\n",
    "        \n",
    "        fold_importance_df = pd.DataFrame()\n",
    "        fold_importance_df[\"feature\"] = list(X_train.columns)\n",
    "        fold_importance_df[\"importance\"] = bst.feature_importance(importance_type='gain', iteration=bst.best_iteration)\n",
    "        fold_importance_df[\"fold\"] = count + 1\n",
    "        feature_importance_df = pd.concat([feature_importance_df, fold_importance_df], axis=0)\n",
    "        count += 1\n",
    "    valid_best_l2_all /= n_folds\n",
    "    cv_pred /= n_folds\n",
    "    result = test_name.copy()\n",
    "    result.columns = ['id']\n",
    "    result['score'] = cv_pred\n",
    "#     result['score'] = result['score'].map(round)\n",
    "    result.to_csv('../result/result_mae63931.csv', index=None)\n",
    "    print('cv score for valid is: ', 1/(1+valid_best_l2_all))\n",
    "    # 0.06392  10折\n",
    "    # 0.06381  5折"
   ]
  },
  {
   "cell_type": "code",
   "execution_count": 18,
   "metadata": {
    "ExecuteTime": {
     "end_time": "2019-03-20T07:11:06.371217Z",
     "start_time": "2019-03-20T07:07:14.230275Z"
    },
    "scrolled": false
   },
   "outputs": [
    {
     "name": "stdout",
     "output_type": "stream",
     "text": [
      "fold:  0  training\n",
      "Training until validation scores don't improve for 100 rounds.\n",
      "Early stopping, best iteration is:\n",
      "[2877]\tvalid_0's l1: 14.4387\n",
      "fold:  1  training\n",
      "Training until validation scores don't improve for 100 rounds.\n",
      "Early stopping, best iteration is:\n",
      "[2382]\tvalid_0's l1: 14.7579\n",
      "fold:  2  training\n",
      "Training until validation scores don't improve for 100 rounds.\n",
      "Early stopping, best iteration is:\n",
      "[2333]\tvalid_0's l1: 14.5723\n",
      "fold:  3  training\n",
      "Training until validation scores don't improve for 100 rounds.\n",
      "Early stopping, best iteration is:\n",
      "[2040]\tvalid_0's l1: 14.6867\n",
      "fold:  4  training\n",
      "Training until validation scores don't improve for 100 rounds.\n",
      "Early stopping, best iteration is:\n",
      "[2016]\tvalid_0's l1: 14.684\n",
      "fold:  5  training\n",
      "Training until validation scores don't improve for 100 rounds.\n",
      "Early stopping, best iteration is:\n",
      "[3156]\tvalid_0's l1: 14.4501\n",
      "fold:  6  training\n",
      "Training until validation scores don't improve for 100 rounds.\n",
      "Early stopping, best iteration is:\n",
      "[2300]\tvalid_0's l1: 14.582\n",
      "fold:  7  training\n",
      "Training until validation scores don't improve for 100 rounds.\n",
      "Early stopping, best iteration is:\n",
      "[2356]\tvalid_0's l1: 14.8272\n",
      "fold:  8  training\n",
      "Training until validation scores don't improve for 100 rounds.\n",
      "Early stopping, best iteration is:\n",
      "[2635]\tvalid_0's l1: 14.669\n",
      "fold:  9  training\n",
      "Training until validation scores don't improve for 100 rounds.\n",
      "Early stopping, best iteration is:\n",
      "[3046]\tvalid_0's l1: 14.5314\n",
      "cv score for valid is:  0.06402070310859392\n"
     ]
    }
   ],
   "source": [
    "evaluation(data)"
   ]
  },
  {
   "cell_type": "code",
   "execution_count": null,
   "metadata": {},
   "outputs": [],
   "source": []
  }
 ],
 "metadata": {
  "kernelspec": {
   "display_name": "Python 3",
   "language": "python",
   "name": "python3"
  },
  "language_info": {
   "codemirror_mode": {
    "name": "ipython",
    "version": 3
   },
   "file_extension": ".py",
   "mimetype": "text/x-python",
   "name": "python",
   "nbconvert_exporter": "python",
   "pygments_lexer": "ipython3",
   "version": "3.6.6"
  },
  "latex_envs": {
   "LaTeX_envs_menu_present": true,
   "autoclose": false,
   "autocomplete": true,
   "bibliofile": "biblio.bib",
   "cite_by": "apalike",
   "current_citInitial": 1,
   "eqLabelWithNumbers": true,
   "eqNumInitial": 1,
   "hotkeys": {
    "equation": "Ctrl-E",
    "itemize": "Ctrl-I"
   },
   "labels_anchors": false,
   "latex_user_defs": false,
   "report_style_numbering": false,
   "user_envs_cfg": false
  }
 },
 "nbformat": 4,
 "nbformat_minor": 2
}
