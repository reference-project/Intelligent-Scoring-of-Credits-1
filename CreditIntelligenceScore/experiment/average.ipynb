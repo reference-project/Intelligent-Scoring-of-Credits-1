{
 "cells": [
  {
   "cell_type": "code",
   "execution_count": 1,
   "metadata": {
    "ExecuteTime": {
     "end_time": "2019-03-24T14:25:51.129150Z",
     "start_time": "2019-03-24T14:25:16.447489Z"
    }
   },
   "outputs": [],
   "source": [
    "%matplotlib inline\n",
    "\n",
    "from datetime import datetime\n",
    "\n",
    "from scipy import stats\n",
    "from scipy.special import boxcox1p\n",
    "from scipy.stats import skew\n",
    "import numpy as np\n",
    "import pandas as pd\n",
    "import matplotlib.pyplot as plt\n",
    "import seaborn as sns\n",
    "import lightgbm as lgb\n",
    "import xgboost as xgb\n",
    "from sklearn.model_selection import KFold\n",
    "from sklearn.metrics import mean_absolute_error\n",
    "from sklearn.model_selection import cross_val_score\n",
    "from mlxtend.regressor import StackingRegressor\n",
    "from sklearn.preprocessing import scale\n",
    "from sklearn.base import BaseEstimator, TransformerMixin, RegressorMixin, clone\n",
    "from sklearn.preprocessing import RobustScaler\n",
    "from sklearn.linear_model import ElasticNet, Lasso,  BayesianRidge, LassoLarsIC\n",
    "from mlxtend.regressor import StackingRegressor\n",
    "from catboost import CatBoostRegressor\n",
    "from sklearn.pipeline import make_pipeline\n",
    "from sklearn.preprocessing import StandardScaler\n",
    "from sklearn.feature_selection import SelectPercentile, f_classif\n",
    "from scipy.stats import zscore\n",
    "from catboost import CatBoostRegressor\n",
    "\n",
    "import warnings\n",
    "warnings.filterwarnings('ignore')\n",
    "\n",
    "\n",
    "# 用于正常显示中文\n",
    "plt.rcParams['font.sans-serif'] = ['SimHei']\n",
    "# 用来正常显示负号\n",
    "plt.rcParams['axes.unicode_minus'] = False\n",
    "# 设置图片清晰度\n",
    "%config InlineBackend.figure_format = 'retina'  "
   ]
  },
  {
   "cell_type": "code",
   "execution_count": 2,
   "metadata": {
    "ExecuteTime": {
     "end_time": "2019-03-24T14:25:52.187946Z",
     "start_time": "2019-03-24T14:25:51.132117Z"
    }
   },
   "outputs": [],
   "source": [
    "train = pd.read_csv('../original_data/train_dataset.csv')\n",
    "test = pd.read_csv('../original_data/test_dataset.csv')"
   ]
  },
  {
   "cell_type": "code",
   "execution_count": 3,
   "metadata": {
    "ExecuteTime": {
     "end_time": "2019-03-24T14:25:52.469290Z",
     "start_time": "2019-03-24T14:25:52.191945Z"
    }
   },
   "outputs": [],
   "source": [
    "data = pd.concat([train, test]).reset_index(drop=True)"
   ]
  },
  {
   "cell_type": "markdown",
   "metadata": {},
   "source": [
    "### 对数据进行截断"
   ]
  },
  {
   "cell_type": "code",
   "execution_count": 4,
   "metadata": {
    "ExecuteTime": {
     "end_time": "2019-03-24T14:25:52.639693Z",
     "start_time": "2019-03-24T14:25:52.473287Z"
    }
   },
   "outputs": [],
   "source": [
    "columns = ['当月视频播放类应用使用次数', '用户当月账户余额（元）', '当月物流快递类应用使用次数', '当月飞机类应用使用次数']\n",
    "for col in columns:\n",
    "    up = np.percentile(data[col].values, 99.99)\n",
    "    down = np.percentile(data[col].values,0.01)\n",
    "    data.loc[data[col]>up, col] = up\n",
    "    data.loc[data[col]<down, col] = down"
   ]
  },
  {
   "cell_type": "markdown",
   "metadata": {
    "ExecuteTime": {
     "end_time": "2019-02-22T15:00:17.438951Z",
     "start_time": "2019-02-22T15:00:17.435955Z"
    }
   },
   "source": [
    "### 对网龄进行年份化"
   ]
  },
  {
   "cell_type": "code",
   "execution_count": 5,
   "metadata": {
    "ExecuteTime": {
     "end_time": "2019-03-24T14:25:53.082149Z",
     "start_time": "2019-03-24T14:25:52.640654Z"
    }
   },
   "outputs": [],
   "source": [
    "data['用户网龄（年）'] = data['用户网龄（月）'] / 12.0\n",
    "data.drop(['用户网龄（月）'], axis=1, inplace=True)"
   ]
  },
  {
   "cell_type": "markdown",
   "metadata": {},
   "source": [
    "### 对缴费方式进行提取"
   ]
  },
  {
   "cell_type": "code",
   "execution_count": 6,
   "metadata": {
    "ExecuteTime": {
     "end_time": "2019-03-24T14:25:53.139117Z",
     "start_time": "2019-03-24T14:25:53.083148Z"
    }
   },
   "outputs": [],
   "source": [
    "def extract_way(s):\n",
    "    if s == 0:\n",
    "        return -1\n",
    "    elif s % 10 == 0:\n",
    "        return 1\n",
    "    else:\n",
    "        return 0\n",
    "\n",
    "data['充值方式'] = data['缴费用户最近一次缴费金额（元）'].map(extract_way)"
   ]
  },
  {
   "cell_type": "markdown",
   "metadata": {},
   "source": [
    "### 对数据进行惩罚修改\n",
    "1. 网龄 > 年龄 或者 年龄 为0\n",
    "2. 经常逛商场的人的逛商场的次数 < 不经常逛商场的人的次数"
   ]
  },
  {
   "cell_type": "code",
   "execution_count": 7,
   "metadata": {
    "ExecuteTime": {
     "end_time": "2019-03-24T14:25:56.342811Z",
     "start_time": "2019-03-24T14:25:53.142115Z"
    }
   },
   "outputs": [],
   "source": [
    "def compare_age_by_network_age(row):\n",
    "    if row['用户网龄（年）'] >= row['用户年龄']:\n",
    "        return 0.0\n",
    "    else:\n",
    "        return row['用户年龄']\n",
    "    \n",
    "\n",
    "data['用户年龄'] = data.apply(compare_age_by_network_age, axis=1)"
   ]
  },
  {
   "cell_type": "code",
   "execution_count": 8,
   "metadata": {
    "ExecuteTime": {
     "end_time": "2019-03-24T14:25:56.425886Z",
     "start_time": "2019-03-24T14:25:56.344818Z"
    }
   },
   "outputs": [],
   "source": [
    "data.loc[data[(data['是否经常逛商场的人'] == 1) & (\n",
    "        data['近三个月月均商场出现次数'] < data[(data['是否经常逛商场的人'] == 1)][\n",
    "    '近三个月月均商场出现次数'].quantile(0.15))].index, \"是否经常逛商场的人\"] = 0\n",
    "data.loc[data[(data['是否经常逛商场的人'] == 0) & (\n",
    "        data['近三个月月均商场出现次数'] > data[(data['是否经常逛商场的人'] == 1)][\n",
    "    '近三个月月均商场出现次数'].quantile(0.85))].index, \"是否经常逛商场的人\"] = 1"
   ]
  },
  {
   "cell_type": "markdown",
   "metadata": {},
   "source": [
    "### 特征交叉"
   ]
  },
  {
   "cell_type": "code",
   "execution_count": 9,
   "metadata": {
    "ExecuteTime": {
     "end_time": "2019-03-24T14:25:56.436861Z",
     "start_time": "2019-03-24T14:25:56.427844Z"
    }
   },
   "outputs": [],
   "source": [
    "data['当月账单超过平均消费'] = data['用户账单当月总费用（元）'] - data['用户近6个月平均消费值（元）']\n",
    "data['用户近5个月平均消费值（元）'] = data['用户近6个月平均消费值（元）']*6-data['用户账单当月总费用（元）']"
   ]
  },
  {
   "cell_type": "code",
   "execution_count": 10,
   "metadata": {
    "ExecuteTime": {
     "end_time": "2019-03-24T14:25:56.455540Z",
     "start_time": "2019-03-24T14:25:56.438596Z"
    }
   },
   "outputs": [],
   "source": [
    "data['交通APP'] = data['当月飞机类应用使用次数'] + data['当月火车类应用使用次数']     "
   ]
  },
  {
   "cell_type": "markdown",
   "metadata": {},
   "source": [
    "### 数据放缩"
   ]
  },
  {
   "cell_type": "code",
   "execution_count": 11,
   "metadata": {
    "ExecuteTime": {
     "end_time": "2019-03-24T14:25:57.082110Z",
     "start_time": "2019-03-24T14:25:56.457490Z"
    }
   },
   "outputs": [],
   "source": [
    "log_feats = ['当月通话交往圈人数', '当月金融理财类应用使用总次数', '当月视频播放类应用使用次数', '交通APP'] \n",
    "for col in log_feats:\n",
    "    data[col] = data[col].map(lambda x: np.log1p(x))"
   ]
  },
  {
   "cell_type": "code",
   "execution_count": 12,
   "metadata": {
    "ExecuteTime": {
     "end_time": "2019-03-24T14:25:57.123070Z",
     "start_time": "2019-03-24T14:25:57.083095Z"
    }
   },
   "outputs": [],
   "source": [
    "data.drop(['是否大学生客户', '用户实名制是否通过核实', '用户最近一次缴费距今时长（月）', \n",
    "           '当月是否到过福州山姆会员店', '当月是否逛过福州仓山万达', '当月火车类应用使用次数',\n",
    "           '当月飞机类应用使用次数'], axis=1, inplace=True)"
   ]
  },
  {
   "cell_type": "markdown",
   "metadata": {},
   "source": [
    "### 模型训练"
   ]
  },
  {
   "cell_type": "code",
   "execution_count": 13,
   "metadata": {
    "ExecuteTime": {
     "end_time": "2019-03-24T14:25:57.134066Z",
     "start_time": "2019-03-24T14:25:57.124072Z"
    }
   },
   "outputs": [],
   "source": [
    "lgb_mae = {\n",
    "    'learning_rate': 0.01,\n",
    "    'boosting_type': 'gbdt',\n",
    "    'objective': 'regression_l1',\n",
    "    'metric': 'mae',\n",
    "    'feature_fraction': 0.5,\n",
    "    'bagging_fraction': 0.6,\n",
    "    'bagging_freq': 1,\n",
    "    'num_leaves': 30,\n",
    "    'verbose': -1,\n",
    "    'max_depth': 6,\n",
    "    'lambda_l2': 5,\n",
    "    'lambda_l1': 2,\n",
    "    'min_data_in_leaf': 28,\n",
    "    'num_boost_round': 10000,\n",
    "    'nthread': 4,\n",
    "}\n",
    "\n",
    "\n",
    "lgb_mse = {\n",
    "    'learning_rate': 0.01,\n",
    "    'boosting_type': 'gbdt',\n",
    "    'objective': 'regression_l2',\n",
    "    'metric': 'mae',\n",
    "    'feature_fraction': 0.5,\n",
    "    'bagging_fraction': 0.7,\n",
    "    'bagging_freq': 1,\n",
    "    'num_leaves': 38,   # 40\n",
    "    'verbose': -1,\n",
    "    'max_depth': 6,\n",
    "    'lambda_l2': 5,\n",
    "    'lambda_l1': 2,\n",
    "    'min_data_in_leaf': 30,\n",
    "    'num_boost_round': 10000,\n",
    "    'nthread': 4,\n",
    "}\n",
    "\n",
    "xgb_params = {\n",
    "    'booster': 'gbtree',\n",
    "    'learning_rate': 0.01,\n",
    "    'max_depth': 5,\n",
    "    'subsample': 0.7,\n",
    "    'colsample_bytree': 0.5,\n",
    "    'objective': 'reg:linear',\n",
    "    'n_estimators': 10000,\n",
    "    'min_child_weight': 35,\n",
    "    'gamma': 0,\n",
    "    'silent': True,\n",
    "    'n_jobs': 4,\n",
    "    'random_state': 89,\n",
    "    'reg_alpha': 5,\n",
    "    'reg_lambda': 5,\n",
    "    'alpha': 1,\n",
    "    'verbose': 1\n",
    "}\n",
    "cat_params = {\n",
    "    'n_estimators': 10000,\n",
    "    'learning_rate': 0.01,\n",
    "    'random_seed': 4590,\n",
    "    'reg_lambda': 5,\n",
    "    'subsample': 0.7,\n",
    "    'bootstrap_type': 'Bernoulli',\n",
    "    'boosting_type': 'Plain',\n",
    "    'one_hot_max_size': 10,\n",
    "    'rsm': 0.5,\n",
    "    'leaf_estimation_iterations': 5,\n",
    "    'use_best_model': True,\n",
    "    'max_depth': 6,\n",
    "    'verbose': -1,\n",
    "    'thread_count': 4\n",
    "}\n"
   ]
  },
  {
   "cell_type": "code",
   "execution_count": 14,
   "metadata": {
    "ExecuteTime": {
     "end_time": "2019-03-24T14:25:57.173157Z",
     "start_time": "2019-03-24T14:25:57.137066Z"
    }
   },
   "outputs": [],
   "source": [
    "xgb_model = xgb.XGBRegressor(**xgb_params)\n",
    "lgb_mae_model = lgb.LGBMRegressor(**lgb_mae)\n",
    "lgb_mse_model = lgb.LGBMRegressor(**lgb_mse)\n",
    "cat_model = CatBoostRegressor(**cat_params)"
   ]
  },
  {
   "cell_type": "code",
   "execution_count": 15,
   "metadata": {
    "ExecuteTime": {
     "end_time": "2019-03-24T14:25:57.194132Z",
     "start_time": "2019-03-24T14:25:57.175143Z"
    }
   },
   "outputs": [],
   "source": [
    "import inspect\n",
    "import math\n",
    "\n",
    "\n",
    "def score_adjustment(s):\n",
    "    if s <= 500:\n",
    "        return math.floor(s)\n",
    "    elif s >= 600:\n",
    "        return math.ceil(s)\n",
    "    else:\n",
    "        return round(s)\n",
    "\n",
    "    \n",
    "def get_iteration_kwargs(gbm):\n",
    "    predict_args = inspect.getfullargspec(gbm.predict).args\n",
    "    if hasattr(gbm, 'best_iteration_'):\n",
    "        best_iteration = getattr(gbm, 'best_iteration_')\n",
    "        if 'num_iteration' in predict_args:\n",
    "            iteration_kwargs = {'num_iteration': best_iteration}\n",
    "        elif 'ntree_end' in predict_args:\n",
    "            iteration_kwargs = {'ntree_end': best_iteration}\n",
    "        else:\n",
    "            raise ValueError()\n",
    "    elif hasattr(gbm, 'best_ntree_limit'):\n",
    "        best_iteration = getattr(gbm, 'best_ntree_limit')\n",
    "        if 'ntree_limit' in predict_args:\n",
    "            iteration_kwargs = {'ntree_limit': best_iteration}\n",
    "        else:\n",
    "            raise ValueError()\n",
    "    else:\n",
    "        raise ValueError()\n",
    "    return iteration_kwargs\n",
    "    \n",
    "    \n",
    "def evaluation(data):\n",
    "    n_folds = 10\n",
    "    train = data[:50000]\n",
    "    test = data[50000:]\n",
    "    \n",
    "    train_y = train['信用分']\n",
    "    train_x = train.drop(['信用分', '用户编码'], axis=1)\n",
    "    test_x = test.drop(['信用分', '用户编码'], axis=1)\n",
    "    \n",
    "    kfold = KFold(n_splits=n_folds, shuffle=True, random_state=89)\n",
    "    kf = kfold.split(train_x, train_y)\n",
    "    \n",
    "    sub = test[['用户编码']]\n",
    "    cv_pred = np.zeros(test.shape[0])\n",
    "    offline = np.zeros(train_x.shape[0])\n",
    "    average_lst = [lgb_mae_model, cat_model, xgb_model]\n",
    "\n",
    "    for i, (train_fold, validate) in enumerate(kf):\n",
    "        print('fold: ',i, ' training')\n",
    "        X_train, X_test, y_train, y_test = train_x.iloc[train_fold, :], train_x.iloc[validate, :], train_y[train_fold], train_y[validate]\n",
    "        y_pred_lst = []\n",
    "        cv_pred_lst = []\n",
    "        for index, model in enumerate(average_lst):\n",
    "            gbm = model.fit(X_train, y_train, eval_set=[(X_train, y_train), (X_test, y_test)],\n",
    "                                  early_stopping_rounds=100, verbose=False)\n",
    "            iteration_kwargs = get_iteration_kwargs(gbm)\n",
    "            \n",
    "            # 线下\n",
    "            y_pred = gbm.predict(X_test, **iteration_kwargs)\n",
    "            y_pred_lst.append(y_pred)\n",
    "            # 线上\n",
    "            cv_pred_tmp = gbm.predict(test_x, **iteration_kwargs)\n",
    "            cv_pred_lst.append(cv_pred_tmp)\n",
    "            \n",
    "        \n",
    "        # 线下\n",
    "        y_pred = np.mean(np.column_stack(y_pred_lst), axis=1)\n",
    "        offline[validate] = y_pred\n",
    "        # 线上\n",
    "        cv_pred += np.mean(np.column_stack(cv_pred_lst), axis=1)\n",
    "        \n",
    "        mae = mean_absolute_error(y_test, y_pred)\n",
    "\n",
    "        print(i, \"time score\", mae)\n",
    "    cv_pred = cv_pred / n_folds\n",
    "#     cv_pred = np.array(list(map(score_adjustment, cv_pred)))\n",
    "    tmp = offline\n",
    "#     offline = np.array(list(map(score_adjustment, offline)))\n",
    "    sub.columns = ['id']\n",
    "    sub['score'] = cv_pred\n",
    "    print('scoring', 1/(1+mean_absolute_error(train_y, offline)))\n",
    "    return sub, tmp"
   ]
  },
  {
   "cell_type": "code",
   "execution_count": 16,
   "metadata": {
    "ExecuteTime": {
     "end_time": "2019-03-24T14:51:59.986386Z",
     "start_time": "2019-03-24T14:25:57.196131Z"
    }
   },
   "outputs": [
    {
     "name": "stdout",
     "output_type": "stream",
     "text": [
      "fold:  0  training\n",
      "0 time score 14.41667483369149\n",
      "fold:  1  training\n",
      "1 time score 14.71144255875848\n",
      "fold:  2  training\n",
      "2 time score 14.50010525126136\n",
      "fold:  3  training\n",
      "3 time score 14.669693905393558\n",
      "fold:  4  training\n"
     ]
    },
    {
     "ename": "KeyboardInterrupt",
     "evalue": "",
     "output_type": "error",
     "traceback": [
      "\u001b[1;31m---------------------------------------------------------------------------\u001b[0m",
      "\u001b[1;31mKeyboardInterrupt\u001b[0m                         Traceback (most recent call last)",
      "\u001b[1;32m<ipython-input-16-8a39fc519302>\u001b[0m in \u001b[0;36m<module>\u001b[1;34m\u001b[0m\n\u001b[1;32m----> 1\u001b[1;33m \u001b[0msub\u001b[0m\u001b[1;33m,\u001b[0m \u001b[0moffline\u001b[0m \u001b[1;33m=\u001b[0m \u001b[0mevaluation\u001b[0m\u001b[1;33m(\u001b[0m\u001b[0mdata\u001b[0m\u001b[1;33m)\u001b[0m\u001b[1;33m\u001b[0m\u001b[0m\n\u001b[0m",
      "\u001b[1;32m<ipython-input-15-1f6657288ddc>\u001b[0m in \u001b[0;36mevaluation\u001b[1;34m(data)\u001b[0m\n\u001b[0;32m     57\u001b[0m         \u001b[1;32mfor\u001b[0m \u001b[0mindex\u001b[0m\u001b[1;33m,\u001b[0m \u001b[0mmodel\u001b[0m \u001b[1;32min\u001b[0m \u001b[0menumerate\u001b[0m\u001b[1;33m(\u001b[0m\u001b[0maverage_lst\u001b[0m\u001b[1;33m)\u001b[0m\u001b[1;33m:\u001b[0m\u001b[1;33m\u001b[0m\u001b[0m\n\u001b[0;32m     58\u001b[0m             gbm = model.fit(X_train, y_train, eval_set=[(X_train, y_train), (X_test, y_test)],\n\u001b[1;32m---> 59\u001b[1;33m                                   early_stopping_rounds=100, verbose=False)\n\u001b[0m\u001b[0;32m     60\u001b[0m             \u001b[0miteration_kwargs\u001b[0m \u001b[1;33m=\u001b[0m \u001b[0mget_iteration_kwargs\u001b[0m\u001b[1;33m(\u001b[0m\u001b[0mgbm\u001b[0m\u001b[1;33m)\u001b[0m\u001b[1;33m\u001b[0m\u001b[0m\n\u001b[0;32m     61\u001b[0m \u001b[1;33m\u001b[0m\u001b[0m\n",
      "\u001b[1;32mD:\\Users\\Administrator\\Anaconda3\\lib\\site-packages\\catboost\\core.py\u001b[0m in \u001b[0;36mfit\u001b[1;34m(self, X, y, cat_features, sample_weight, baseline, use_best_model, eval_set, verbose, logging_level, plot, column_description, verbose_eval, metric_period, silent, early_stopping_rounds, save_snapshot, snapshot_file, snapshot_interval)\u001b[0m\n\u001b[0;32m   2547\u001b[0m                          \u001b[0muse_best_model\u001b[0m\u001b[1;33m,\u001b[0m \u001b[0meval_set\u001b[0m\u001b[1;33m,\u001b[0m \u001b[0mverbose\u001b[0m\u001b[1;33m,\u001b[0m \u001b[0mlogging_level\u001b[0m\u001b[1;33m,\u001b[0m \u001b[0mplot\u001b[0m\u001b[1;33m,\u001b[0m \u001b[0mcolumn_description\u001b[0m\u001b[1;33m,\u001b[0m\u001b[1;33m\u001b[0m\u001b[0m\n\u001b[0;32m   2548\u001b[0m                          \u001b[0mverbose_eval\u001b[0m\u001b[1;33m,\u001b[0m \u001b[0mmetric_period\u001b[0m\u001b[1;33m,\u001b[0m \u001b[0msilent\u001b[0m\u001b[1;33m,\u001b[0m \u001b[0mearly_stopping_rounds\u001b[0m\u001b[1;33m,\u001b[0m\u001b[1;33m\u001b[0m\u001b[0m\n\u001b[1;32m-> 2549\u001b[1;33m                          save_snapshot, snapshot_file, snapshot_interval)\n\u001b[0m\u001b[0;32m   2550\u001b[0m \u001b[1;33m\u001b[0m\u001b[0m\n\u001b[0;32m   2551\u001b[0m     \u001b[1;32mdef\u001b[0m \u001b[0mpredict\u001b[0m\u001b[1;33m(\u001b[0m\u001b[0mself\u001b[0m\u001b[1;33m,\u001b[0m \u001b[0mdata\u001b[0m\u001b[1;33m,\u001b[0m \u001b[0mntree_start\u001b[0m\u001b[1;33m=\u001b[0m\u001b[1;36m0\u001b[0m\u001b[1;33m,\u001b[0m \u001b[0mntree_end\u001b[0m\u001b[1;33m=\u001b[0m\u001b[1;36m0\u001b[0m\u001b[1;33m,\u001b[0m \u001b[0mthread_count\u001b[0m\u001b[1;33m=\u001b[0m\u001b[1;33m-\u001b[0m\u001b[1;36m1\u001b[0m\u001b[1;33m,\u001b[0m \u001b[0mverbose\u001b[0m\u001b[1;33m=\u001b[0m\u001b[1;32mNone\u001b[0m\u001b[1;33m)\u001b[0m\u001b[1;33m:\u001b[0m\u001b[1;33m\u001b[0m\u001b[0m\n",
      "\u001b[1;32mD:\\Users\\Administrator\\Anaconda3\\lib\\site-packages\\catboost\\core.py\u001b[0m in \u001b[0;36m_fit\u001b[1;34m(self, X, y, cat_features, pairs, sample_weight, group_id, group_weight, subgroup_id, pairs_weight, baseline, use_best_model, eval_set, verbose, logging_level, plot, column_description, verbose_eval, metric_period, silent, early_stopping_rounds, save_snapshot, snapshot_file, snapshot_interval)\u001b[0m\n\u001b[0;32m   1124\u001b[0m \u001b[1;33m\u001b[0m\u001b[0m\n\u001b[0;32m   1125\u001b[0m         \u001b[1;32mwith\u001b[0m \u001b[0mlog_fixup\u001b[0m\u001b[1;33m(\u001b[0m\u001b[1;33m)\u001b[0m\u001b[1;33m,\u001b[0m \u001b[0mplot_wrapper\u001b[0m\u001b[1;33m(\u001b[0m\u001b[0mplot\u001b[0m\u001b[1;33m,\u001b[0m \u001b[0mself\u001b[0m\u001b[1;33m.\u001b[0m\u001b[0mget_params\u001b[0m\u001b[1;33m(\u001b[0m\u001b[1;33m)\u001b[0m\u001b[1;33m)\u001b[0m\u001b[1;33m:\u001b[0m\u001b[1;33m\u001b[0m\u001b[0m\n\u001b[1;32m-> 1126\u001b[1;33m             \u001b[0mself\u001b[0m\u001b[1;33m.\u001b[0m\u001b[0m_train\u001b[0m\u001b[1;33m(\u001b[0m\u001b[0mtrain_pool\u001b[0m\u001b[1;33m,\u001b[0m \u001b[0meval_sets\u001b[0m\u001b[1;33m,\u001b[0m \u001b[0mparams\u001b[0m\u001b[1;33m,\u001b[0m \u001b[0mallow_clear_pool\u001b[0m\u001b[1;33m)\u001b[0m\u001b[1;33m\u001b[0m\u001b[0m\n\u001b[0m\u001b[0;32m   1127\u001b[0m \u001b[1;33m\u001b[0m\u001b[0m\n\u001b[0;32m   1128\u001b[0m         \u001b[1;32mif\u001b[0m \u001b[1;33m(\u001b[0m\u001b[1;32mnot\u001b[0m \u001b[0mself\u001b[0m\u001b[1;33m.\u001b[0m\u001b[0m_object\u001b[0m\u001b[1;33m.\u001b[0m\u001b[0m_has_leaf_weights_in_model\u001b[0m\u001b[1;33m(\u001b[0m\u001b[1;33m)\u001b[0m\u001b[1;33m)\u001b[0m \u001b[1;32mand\u001b[0m \u001b[0mallow_clear_pool\u001b[0m\u001b[1;33m:\u001b[0m\u001b[1;33m\u001b[0m\u001b[0m\n",
      "\u001b[1;32mD:\\Users\\Administrator\\Anaconda3\\lib\\site-packages\\catboost\\core.py\u001b[0m in \u001b[0;36m_train\u001b[1;34m(self, train_pool, test_pool, params, allow_clear_pool)\u001b[0m\n\u001b[0;32m    826\u001b[0m \u001b[1;33m\u001b[0m\u001b[0m\n\u001b[0;32m    827\u001b[0m     \u001b[1;32mdef\u001b[0m \u001b[0m_train\u001b[0m\u001b[1;33m(\u001b[0m\u001b[0mself\u001b[0m\u001b[1;33m,\u001b[0m \u001b[0mtrain_pool\u001b[0m\u001b[1;33m,\u001b[0m \u001b[0mtest_pool\u001b[0m\u001b[1;33m,\u001b[0m \u001b[0mparams\u001b[0m\u001b[1;33m,\u001b[0m \u001b[0mallow_clear_pool\u001b[0m\u001b[1;33m)\u001b[0m\u001b[1;33m:\u001b[0m\u001b[1;33m\u001b[0m\u001b[0m\n\u001b[1;32m--> 828\u001b[1;33m         \u001b[0mself\u001b[0m\u001b[1;33m.\u001b[0m\u001b[0m_object\u001b[0m\u001b[1;33m.\u001b[0m\u001b[0m_train\u001b[0m\u001b[1;33m(\u001b[0m\u001b[0mtrain_pool\u001b[0m\u001b[1;33m,\u001b[0m \u001b[0mtest_pool\u001b[0m\u001b[1;33m,\u001b[0m \u001b[0mparams\u001b[0m\u001b[1;33m,\u001b[0m \u001b[0mallow_clear_pool\u001b[0m\u001b[1;33m)\u001b[0m\u001b[1;33m\u001b[0m\u001b[0m\n\u001b[0m\u001b[0;32m    829\u001b[0m         \u001b[0mself\u001b[0m\u001b[1;33m.\u001b[0m\u001b[0m_set_trained_model_attributes\u001b[0m\u001b[1;33m(\u001b[0m\u001b[1;33m)\u001b[0m\u001b[1;33m\u001b[0m\u001b[0m\n\u001b[0;32m    830\u001b[0m \u001b[1;33m\u001b[0m\u001b[0m\n",
      "\u001b[1;32m_catboost.pyx\u001b[0m in \u001b[0;36m_catboost._CatBoost._train\u001b[1;34m()\u001b[0m\n",
      "\u001b[1;32m_catboost.pyx\u001b[0m in \u001b[0;36m_catboost._CatBoost._train\u001b[1;34m()\u001b[0m\n",
      "\u001b[1;31mKeyboardInterrupt\u001b[0m: "
     ]
    }
   ],
   "source": [
    "sub, offline = evaluation(data)"
   ]
  },
  {
   "cell_type": "code",
   "execution_count": null,
   "metadata": {
    "ExecuteTime": {
     "end_time": "2019-03-24T14:51:59.991382Z",
     "start_time": "2019-03-24T14:25:16.513Z"
    }
   },
   "outputs": [],
   "source": [
    "sub.to_csv('sub_test3.csv', index=None)"
   ]
  },
  {
   "cell_type": "code",
   "execution_count": null,
   "metadata": {
    "ExecuteTime": {
     "end_time": "2019-03-24T14:51:59.994381Z",
     "start_time": "2019-03-24T14:25:16.517Z"
    }
   },
   "outputs": [],
   "source": [
    "offline = pd.DataFrame({'score': offline})"
   ]
  },
  {
   "cell_type": "code",
   "execution_count": null,
   "metadata": {
    "ExecuteTime": {
     "end_time": "2019-03-24T14:51:59.996379Z",
     "start_time": "2019-03-24T14:25:16.519Z"
    }
   },
   "outputs": [],
   "source": [
    "offline.to_csv('offline.csv', index=None)"
   ]
  },
  {
   "cell_type": "code",
   "execution_count": null,
   "metadata": {},
   "outputs": [],
   "source": []
  }
 ],
 "metadata": {
  "kernelspec": {
   "display_name": "Python 3",
   "language": "python",
   "name": "python3"
  },
  "language_info": {
   "codemirror_mode": {
    "name": "ipython",
    "version": 3
   },
   "file_extension": ".py",
   "mimetype": "text/x-python",
   "name": "python",
   "nbconvert_exporter": "python",
   "pygments_lexer": "ipython3",
   "version": "3.6.6"
  },
  "latex_envs": {
   "LaTeX_envs_menu_present": true,
   "autoclose": false,
   "autocomplete": true,
   "bibliofile": "biblio.bib",
   "cite_by": "apalike",
   "current_citInitial": 1,
   "eqLabelWithNumbers": true,
   "eqNumInitial": 1,
   "hotkeys": {
    "equation": "Ctrl-E",
    "itemize": "Ctrl-I"
   },
   "labels_anchors": false,
   "latex_user_defs": false,
   "report_style_numbering": false,
   "user_envs_cfg": false
  }
 },
 "nbformat": 4,
 "nbformat_minor": 2
}
